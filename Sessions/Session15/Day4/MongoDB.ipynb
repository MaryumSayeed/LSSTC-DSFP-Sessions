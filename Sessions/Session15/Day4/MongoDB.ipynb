{
 "cells": [
  {
   "cell_type": "code",
   "execution_count": 1,
   "id": "d3197b78",
   "metadata": {
    "slideshow": {
     "slide_type": "skip"
    }
   },
   "outputs": [],
   "source": [
    "import pymongo\n",
    "import pandas\n",
    "from pprint import pprint\n",
    "\n",
    "# Connect\n",
    "client = pymongo.MongoClient(host=\"mongo\", port=27017, username=\"imdb\", password=\"imdb_admin\")"
   ]
  },
  {
   "cell_type": "code",
   "execution_count": 2,
   "id": "3bf2fa0d-59e3-4b5c-9f2e-4d88be939ed3",
   "metadata": {},
   "outputs": [
    {
     "data": {
      "text/plain": [
       "<pymongo.results.InsertManyResult at 0xffff632a7100>"
      ]
     },
     "execution_count": 2,
     "metadata": {},
     "output_type": "execute_result"
    }
   ],
   "source": [
    "df1 = pandas.read_csv(\"IMDB-movies.csv\")\n",
    "df2 = pandas.read_csv(\"IMDB-directors.csv\",)\n",
    "df3 = pandas.read_csv(\"IMDB-movies_directors.csv\")\n",
    "df4 = pandas.read_csv(\"IMDB-movies_genres.csv\")\n",
    "df5 = df4.merge(df1).merge(df3).merge(df2)\n",
    "\n",
    "df4 = df4.merge(df1)\n",
    "df3 = df3.merge(df1).merge(df2)\n",
    "\n",
    "db = client['imdb_database']\n",
    "collection1 = db['imdb_movies']\n",
    "collection2 = db['imdb_directors']\n",
    "collection3 = db['imdb_movies_directors']\n",
    "collection4 = db['imdb_movies_genres']\n",
    "collection5 = db['imdb_movies_directors_genres']\n",
    "\n",
    "df1.reset_index(inplace=True)\n",
    "data_dict = df1.to_dict(\"records\")# Insert collection\n",
    "collection1.insert_many(data_dict)\n",
    "\n",
    "df2.reset_index(inplace=True)\n",
    "data_dict = df2.to_dict(\"records\")# Insert collection\n",
    "collection2.insert_many(data_dict)\n",
    "\n",
    "df3.reset_index(inplace=True)\n",
    "data_dict = df3.to_dict(\"records\")# Insert collection\n",
    "collection3.insert_many(data_dict)\n",
    "\n",
    "df4.reset_index(inplace=True)\n",
    "data_dict = df4.to_dict(\"records\")# Insert collection\n",
    "collection4.insert_many(data_dict)\n",
    "\n",
    "df5.reset_index(inplace=True)\n",
    "data_dict = df5.to_dict(\"records\")# Insert collection\n",
    "collection5.insert_many(data_dict)"
   ]
  },
  {
   "cell_type": "code",
   "execution_count": 3,
   "id": "c9cc07a5-f67b-4718-9d8a-0eab186074d6",
   "metadata": {},
   "outputs": [
    {
     "data": {
      "text/plain": [
       "(Index(['index', 'movie_id', 'name', 'year', 'rank'], dtype='object'),\n",
       " Index(['index', 'director_id', 'first_name', 'last_name'], dtype='object'),\n",
       " Index(['index', 'director_id', 'movie_id', 'name', 'year', 'rank',\n",
       "        'first_name', 'last_name'],\n",
       "       dtype='object'),\n",
       " Index(['index', 'movie_id', 'genre', 'name', 'year', 'rank'], dtype='object'))"
      ]
     },
     "execution_count": 3,
     "metadata": {},
     "output_type": "execute_result"
    }
   ],
   "source": [
    "df1.columns,df2.columns,df3.columns,df4.columns#,df5.columns"
   ]
  },
  {
   "cell_type": "markdown",
   "id": "41cd95a9",
   "metadata": {
    "slideshow": {
     "slide_type": "slide"
    },
    "tags": []
   },
   "source": [
    "# Introduction to MongoDB (MongoDB Query Language)\n",
    "\n",
    "##### Version 0.1\n",
    "\n",
    "***\n",
    "\n",
    "By Scott Coughlin (Northwestern IT Research Computing Services)  \n",
    "20 July 2022"
   ]
  },
  {
   "cell_type": "markdown",
   "id": "9e64ba9d",
   "metadata": {
    "slideshow": {
     "slide_type": "slide"
    }
   },
   "source": [
    "In our introduction to MongoDB we will start with queries of existing tables."
   ]
  },
  {
   "cell_type": "markdown",
   "id": "82fdb8d7",
   "metadata": {
    "slideshow": {
     "slide_type": "slide"
    }
   },
   "source": [
    "## Problem 1) IMDb Data"
   ]
  },
  {
   "cell_type": "markdown",
   "id": "04689f26",
   "metadata": {
    "slideshow": {
     "slide_type": "slide"
    }
   },
   "source": [
    "Throughout the session we will use information from the [Internet Movie Database (IMDb)](https://www.imdb.com/) to illustrate various principles regarding databases."
   ]
  },
  {
   "cell_type": "markdown",
   "id": "3d0e4d76",
   "metadata": {
    "slideshow": {
     "slide_type": "subslide"
    }
   },
   "source": [
    "A quick note on the provenance of this data. The files we have used to populate this data set are from [this website](https://relational.fit.cvut.cz/dataset/IMDb) and it may not be a list of every single movie on IMDb (there are no movies after 2004)."
   ]
  },
  {
   "cell_type": "markdown",
   "id": "f1a05846-0b88-4f43-b72c-ae8b4fcf5d19",
   "metadata": {},
   "source": [
    "For this exercise there are 5 collections, \n",
    "```\n",
    "collection1 = db['imdb_movies']\n",
    "collection2 = db['imdb_directors']\n",
    "collection3 = db['imdb_movies_directors']\n",
    "collection4 = db['imdb_movies_genres']\n",
    "collection5 = db['imdb_movies_directors_genres']\n",
    "```\n",
    "To make things simple, I have already performed the necessary steps to \"join\" the information from imdb_movies and imdb_directories together to make a bigger collection \"imdb_movies_directors\" and so on"
   ]
  },
  {
   "cell_type": "markdown",
   "id": "d88ddef6-9e0e-4cf4-8df6-d35bf9cf3665",
   "metadata": {},
   "source": [
    "#### HELPFUL TIP: Convery all resulting queries to a pandas.DataFrame by wrapping the `pymongo` query in\n",
    "\n",
    "```\n",
    "df = pandas.DataFrame(list(db.imdb_movies_genres.find())\n",
    "print(df)\n",
    "\t_id \tindex \tdirector_id \tfirst_name \tlast_name\n",
    "0 \t62da05f8e5d6d03453887957 \t70115 \t71645 \tMartin \tScorsese\n",
    "```\n",
    "\n",
    "### Second Helpful Tip: See the MongoDB SQL to Mongo mapping information to help: https://www.mongodb.com/docs/manual/reference/sql-comparison/"
   ]
  },
  {
   "cell_type": "code",
   "execution_count": 4,
   "id": "cb0c86c5-2b33-4cfb-8991-feac16bc36e1",
   "metadata": {},
   "outputs": [
    {
     "data": {
      "text/html": [
       "<div>\n",
       "<style scoped>\n",
       "    .dataframe tbody tr th:only-of-type {\n",
       "        vertical-align: middle;\n",
       "    }\n",
       "\n",
       "    .dataframe tbody tr th {\n",
       "        vertical-align: top;\n",
       "    }\n",
       "\n",
       "    .dataframe thead th {\n",
       "        text-align: right;\n",
       "    }\n",
       "</style>\n",
       "<table border=\"1\" class=\"dataframe\">\n",
       "  <thead>\n",
       "    <tr style=\"text-align: right;\">\n",
       "      <th></th>\n",
       "      <th>_id</th>\n",
       "      <th>index</th>\n",
       "      <th>director_id</th>\n",
       "      <th>first_name</th>\n",
       "      <th>last_name</th>\n",
       "    </tr>\n",
       "  </thead>\n",
       "  <tbody>\n",
       "    <tr>\n",
       "      <th>0</th>\n",
       "      <td>62dab88b118486e1c4c718ae</td>\n",
       "      <td>70115</td>\n",
       "      <td>71645</td>\n",
       "      <td>Martin</td>\n",
       "      <td>Scorsese</td>\n",
       "    </tr>\n",
       "    <tr>\n",
       "      <th>1</th>\n",
       "      <td>62dabd6d19aa76b5d3914b6d</td>\n",
       "      <td>70115</td>\n",
       "      <td>71645</td>\n",
       "      <td>Martin</td>\n",
       "      <td>Scorsese</td>\n",
       "    </tr>\n",
       "  </tbody>\n",
       "</table>\n",
       "</div>"
      ],
      "text/plain": [
       "                        _id  index  director_id first_name last_name\n",
       "0  62dab88b118486e1c4c718ae  70115        71645     Martin  Scorsese\n",
       "1  62dabd6d19aa76b5d3914b6d  70115        71645     Martin  Scorsese"
      ]
     },
     "execution_count": 4,
     "metadata": {},
     "output_type": "execute_result"
    }
   ],
   "source": [
    "pandas.DataFrame(list(db.imdb_directors.find({\"last_name\" : \"Scorsese\"})))"
   ]
  },
  {
   "cell_type": "markdown",
   "id": "3eb22b82",
   "metadata": {
    "slideshow": {
     "slide_type": "slide"
    }
   },
   "source": [
    "**Problem 1a**\n",
    "\n",
    "Using pymongo, SELECT 10 movies from the imbd_movies table. Select 10 directors from imbd_directors and order by `first_name`."
   ]
  },
  {
   "cell_type": "code",
   "execution_count": 5,
   "id": "135a2600-8d4e-40fb-ba93-7bf2aa23c5de",
   "metadata": {},
   "outputs": [
    {
     "data": {
      "text/html": [
       "<div>\n",
       "<style scoped>\n",
       "    .dataframe tbody tr th:only-of-type {\n",
       "        vertical-align: middle;\n",
       "    }\n",
       "\n",
       "    .dataframe tbody tr th {\n",
       "        vertical-align: top;\n",
       "    }\n",
       "\n",
       "    .dataframe thead th {\n",
       "        text-align: right;\n",
       "    }\n",
       "</style>\n",
       "<table border=\"1\" class=\"dataframe\">\n",
       "  <thead>\n",
       "    <tr style=\"text-align: right;\">\n",
       "      <th></th>\n",
       "      <th>_id</th>\n",
       "      <th>index</th>\n",
       "      <th>movie_id</th>\n",
       "      <th>name</th>\n",
       "      <th>year</th>\n",
       "      <th>rank</th>\n",
       "    </tr>\n",
       "  </thead>\n",
       "  <tbody>\n",
       "    <tr>\n",
       "      <th>0</th>\n",
       "      <td>62dab888118486e1c4c09b81</td>\n",
       "      <td>0</td>\n",
       "      <td>0</td>\n",
       "      <td>#28</td>\n",
       "      <td>2002</td>\n",
       "      <td>0.0</td>\n",
       "    </tr>\n",
       "    <tr>\n",
       "      <th>1</th>\n",
       "      <td>62dab888118486e1c4c09b82</td>\n",
       "      <td>1</td>\n",
       "      <td>1</td>\n",
       "      <td>#7 Train: An Immigrant Journey, The</td>\n",
       "      <td>2000</td>\n",
       "      <td>0.0</td>\n",
       "    </tr>\n",
       "    <tr>\n",
       "      <th>2</th>\n",
       "      <td>62dab888118486e1c4c09b83</td>\n",
       "      <td>2</td>\n",
       "      <td>2</td>\n",
       "      <td>$</td>\n",
       "      <td>1971</td>\n",
       "      <td>6.4</td>\n",
       "    </tr>\n",
       "    <tr>\n",
       "      <th>3</th>\n",
       "      <td>62dab888118486e1c4c09b84</td>\n",
       "      <td>3</td>\n",
       "      <td>3</td>\n",
       "      <td>$1,000 Reward</td>\n",
       "      <td>1913</td>\n",
       "      <td>0.0</td>\n",
       "    </tr>\n",
       "    <tr>\n",
       "      <th>4</th>\n",
       "      <td>62dab888118486e1c4c09b85</td>\n",
       "      <td>4</td>\n",
       "      <td>4</td>\n",
       "      <td>$1,000 Reward</td>\n",
       "      <td>1915</td>\n",
       "      <td>0.0</td>\n",
       "    </tr>\n",
       "    <tr>\n",
       "      <th>5</th>\n",
       "      <td>62dab888118486e1c4c09b86</td>\n",
       "      <td>5</td>\n",
       "      <td>5</td>\n",
       "      <td>$1,000 Reward</td>\n",
       "      <td>1923</td>\n",
       "      <td>0.0</td>\n",
       "    </tr>\n",
       "    <tr>\n",
       "      <th>6</th>\n",
       "      <td>62dab888118486e1c4c09b87</td>\n",
       "      <td>6</td>\n",
       "      <td>6</td>\n",
       "      <td>$1,000,000 Duck</td>\n",
       "      <td>1971</td>\n",
       "      <td>5.0</td>\n",
       "    </tr>\n",
       "    <tr>\n",
       "      <th>7</th>\n",
       "      <td>62dab888118486e1c4c09b88</td>\n",
       "      <td>7</td>\n",
       "      <td>7</td>\n",
       "      <td>$1,000,000 Reward, The</td>\n",
       "      <td>1920</td>\n",
       "      <td>0.0</td>\n",
       "    </tr>\n",
       "    <tr>\n",
       "      <th>8</th>\n",
       "      <td>62dab888118486e1c4c09b89</td>\n",
       "      <td>8</td>\n",
       "      <td>8</td>\n",
       "      <td>$10,000 Under a Pillow</td>\n",
       "      <td>1921</td>\n",
       "      <td>0.0</td>\n",
       "    </tr>\n",
       "    <tr>\n",
       "      <th>9</th>\n",
       "      <td>62dab888118486e1c4c09b8a</td>\n",
       "      <td>9</td>\n",
       "      <td>9</td>\n",
       "      <td>$100,000.00</td>\n",
       "      <td>1915</td>\n",
       "      <td>0.0</td>\n",
       "    </tr>\n",
       "  </tbody>\n",
       "</table>\n",
       "</div>"
      ],
      "text/plain": [
       "                        _id  index  movie_id  \\\n",
       "0  62dab888118486e1c4c09b81      0         0   \n",
       "1  62dab888118486e1c4c09b82      1         1   \n",
       "2  62dab888118486e1c4c09b83      2         2   \n",
       "3  62dab888118486e1c4c09b84      3         3   \n",
       "4  62dab888118486e1c4c09b85      4         4   \n",
       "5  62dab888118486e1c4c09b86      5         5   \n",
       "6  62dab888118486e1c4c09b87      6         6   \n",
       "7  62dab888118486e1c4c09b88      7         7   \n",
       "8  62dab888118486e1c4c09b89      8         8   \n",
       "9  62dab888118486e1c4c09b8a      9         9   \n",
       "\n",
       "                                  name  year  rank  \n",
       "0                                  #28  2002   0.0  \n",
       "1  #7 Train: An Immigrant Journey, The  2000   0.0  \n",
       "2                                    $  1971   6.4  \n",
       "3                        $1,000 Reward  1913   0.0  \n",
       "4                        $1,000 Reward  1915   0.0  \n",
       "5                        $1,000 Reward  1923   0.0  \n",
       "6                      $1,000,000 Duck  1971   5.0  \n",
       "7               $1,000,000 Reward, The  1920   0.0  \n",
       "8               $10,000 Under a Pillow  1921   0.0  \n",
       "9                          $100,000.00  1915   0.0  "
      ]
     },
     "execution_count": 5,
     "metadata": {},
     "output_type": "execute_result"
    }
   ],
   "source": [
    "pandas.DataFrame(list(db.imdb_movies.find().limit(10)))"
   ]
  },
  {
   "cell_type": "code",
   "execution_count": 6,
   "id": "31c4d396-99fe-438c-91af-14d95b357622",
   "metadata": {},
   "outputs": [
    {
     "data": {
      "text/html": [
       "<div>\n",
       "<style scoped>\n",
       "    .dataframe tbody tr th:only-of-type {\n",
       "        vertical-align: middle;\n",
       "    }\n",
       "\n",
       "    .dataframe tbody tr th {\n",
       "        vertical-align: top;\n",
       "    }\n",
       "\n",
       "    .dataframe thead th {\n",
       "        text-align: right;\n",
       "    }\n",
       "</style>\n",
       "<table border=\"1\" class=\"dataframe\">\n",
       "  <thead>\n",
       "    <tr style=\"text-align: right;\">\n",
       "      <th></th>\n",
       "      <th>_id</th>\n",
       "      <th>index</th>\n",
       "      <th>director_id</th>\n",
       "      <th>first_name</th>\n",
       "      <th>last_name</th>\n",
       "    </tr>\n",
       "  </thead>\n",
       "  <tbody>\n",
       "    <tr>\n",
       "      <th>0</th>\n",
       "      <td>62dab88b118486e1c4c616c2</td>\n",
       "      <td>4087</td>\n",
       "      <td>4175</td>\n",
       "      <td>A.</td>\n",
       "      <td>Balakrishnan</td>\n",
       "    </tr>\n",
       "    <tr>\n",
       "      <th>1</th>\n",
       "      <td>62dab88b118486e1c4c620cb</td>\n",
       "      <td>6656</td>\n",
       "      <td>6779</td>\n",
       "      <td>A.</td>\n",
       "      <td>Berry</td>\n",
       "    </tr>\n",
       "    <tr>\n",
       "      <th>2</th>\n",
       "      <td>62dab88b118486e1c4c6258b</td>\n",
       "      <td>7872</td>\n",
       "      <td>8026</td>\n",
       "      <td>A.</td>\n",
       "      <td>Bobrov</td>\n",
       "    </tr>\n",
       "    <tr>\n",
       "      <th>3</th>\n",
       "      <td>62dab88b118486e1c4c62223</td>\n",
       "      <td>7000</td>\n",
       "      <td>7125</td>\n",
       "      <td>A.</td>\n",
       "      <td>Bhimsingh</td>\n",
       "    </tr>\n",
       "    <tr>\n",
       "      <th>4</th>\n",
       "      <td>62dab88b118486e1c4c61973</td>\n",
       "      <td>4776</td>\n",
       "      <td>4871</td>\n",
       "      <td>A.</td>\n",
       "      <td>Barr-Smith</td>\n",
       "    </tr>\n",
       "    <tr>\n",
       "      <th>5</th>\n",
       "      <td>62dab88b118486e1c4c6238a</td>\n",
       "      <td>7359</td>\n",
       "      <td>7494</td>\n",
       "      <td>A.</td>\n",
       "      <td>Bistritsky</td>\n",
       "    </tr>\n",
       "    <tr>\n",
       "      <th>6</th>\n",
       "      <td>62dab88b118486e1c4c63a65</td>\n",
       "      <td>13210</td>\n",
       "      <td>13475</td>\n",
       "      <td>A.</td>\n",
       "      <td>Chandrasekaran</td>\n",
       "    </tr>\n",
       "    <tr>\n",
       "      <th>7</th>\n",
       "      <td>62dab88b118486e1c4c639ee</td>\n",
       "      <td>13091</td>\n",
       "      <td>13355</td>\n",
       "      <td>A.</td>\n",
       "      <td>Champeaux</td>\n",
       "    </tr>\n",
       "    <tr>\n",
       "      <th>8</th>\n",
       "      <td>62dab88b118486e1c4c61509</td>\n",
       "      <td>3646</td>\n",
       "      <td>3728</td>\n",
       "      <td>A.</td>\n",
       "      <td>Babes</td>\n",
       "    </tr>\n",
       "    <tr>\n",
       "      <th>9</th>\n",
       "      <td>62dab88b118486e1c4c60b0d</td>\n",
       "      <td>1090</td>\n",
       "      <td>1114</td>\n",
       "      <td>A.</td>\n",
       "      <td>Aleksandrov</td>\n",
       "    </tr>\n",
       "  </tbody>\n",
       "</table>\n",
       "</div>"
      ],
      "text/plain": [
       "                        _id  index  director_id first_name       last_name\n",
       "0  62dab88b118486e1c4c616c2   4087         4175         A.    Balakrishnan\n",
       "1  62dab88b118486e1c4c620cb   6656         6779         A.           Berry\n",
       "2  62dab88b118486e1c4c6258b   7872         8026         A.          Bobrov\n",
       "3  62dab88b118486e1c4c62223   7000         7125         A.       Bhimsingh\n",
       "4  62dab88b118486e1c4c61973   4776         4871         A.      Barr-Smith\n",
       "5  62dab88b118486e1c4c6238a   7359         7494         A.      Bistritsky\n",
       "6  62dab88b118486e1c4c63a65  13210        13475         A.  Chandrasekaran\n",
       "7  62dab88b118486e1c4c639ee  13091        13355         A.       Champeaux\n",
       "8  62dab88b118486e1c4c61509   3646         3728         A.           Babes\n",
       "9  62dab88b118486e1c4c60b0d   1090         1114         A.     Aleksandrov"
      ]
     },
     "execution_count": 6,
     "metadata": {},
     "output_type": "execute_result"
    }
   ],
   "source": [
    "pandas.DataFrame(list(db.imdb_directors.find().sort('first_name',1).limit(10)))"
   ]
  },
  {
   "cell_type": "markdown",
   "id": "0b998ad2",
   "metadata": {
    "slideshow": {
     "slide_type": "slide"
    }
   },
   "source": [
    "**Problem 1b**\n",
    "\n",
    "Using pymongo, how many movies are there? How many directors are there? "
   ]
  },
  {
   "cell_type": "code",
   "execution_count": 32,
   "id": "d5333751-e6d6-4267-8892-ccba463ffa8a",
   "metadata": {},
   "outputs": [
    {
     "data": {
      "text/html": [
       "<div>\n",
       "<style scoped>\n",
       "    .dataframe tbody tr th:only-of-type {\n",
       "        vertical-align: middle;\n",
       "    }\n",
       "\n",
       "    .dataframe tbody tr th {\n",
       "        vertical-align: top;\n",
       "    }\n",
       "\n",
       "    .dataframe thead th {\n",
       "        text-align: right;\n",
       "    }\n",
       "</style>\n",
       "<table border=\"1\" class=\"dataframe\">\n",
       "  <thead>\n",
       "    <tr style=\"text-align: right;\">\n",
       "      <th></th>\n",
       "      <th>0</th>\n",
       "    </tr>\n",
       "  </thead>\n",
       "  <tbody>\n",
       "    <tr>\n",
       "      <th>0</th>\n",
       "      <td>1</td>\n",
       "    </tr>\n",
       "    <tr>\n",
       "      <th>1</th>\n",
       "      <td>2</td>\n",
       "    </tr>\n",
       "    <tr>\n",
       "      <th>2</th>\n",
       "      <td>3</td>\n",
       "    </tr>\n",
       "    <tr>\n",
       "      <th>3</th>\n",
       "      <td>4</td>\n",
       "    </tr>\n",
       "    <tr>\n",
       "      <th>4</th>\n",
       "      <td>5</td>\n",
       "    </tr>\n",
       "    <tr>\n",
       "      <th>...</th>\n",
       "      <td>...</td>\n",
       "    </tr>\n",
       "    <tr>\n",
       "      <th>86875</th>\n",
       "      <td>88797</td>\n",
       "    </tr>\n",
       "    <tr>\n",
       "      <th>86876</th>\n",
       "      <td>88798</td>\n",
       "    </tr>\n",
       "    <tr>\n",
       "      <th>86877</th>\n",
       "      <td>88799</td>\n",
       "    </tr>\n",
       "    <tr>\n",
       "      <th>86878</th>\n",
       "      <td>88800</td>\n",
       "    </tr>\n",
       "    <tr>\n",
       "      <th>86879</th>\n",
       "      <td>88801</td>\n",
       "    </tr>\n",
       "  </tbody>\n",
       "</table>\n",
       "<p>86880 rows × 1 columns</p>\n",
       "</div>"
      ],
      "text/plain": [
       "           0\n",
       "0          1\n",
       "1          2\n",
       "2          3\n",
       "3          4\n",
       "4          5\n",
       "...      ...\n",
       "86875  88797\n",
       "86876  88798\n",
       "86877  88799\n",
       "86878  88800\n",
       "86879  88801\n",
       "\n",
       "[86880 rows x 1 columns]"
      ]
     },
     "execution_count": 32,
     "metadata": {},
     "output_type": "execute_result"
    }
   ],
   "source": [
    "pandas.DataFrame(list(db.imdb_directors.distinct(\"director_id\")))"
   ]
  },
  {
   "cell_type": "code",
   "execution_count": 33,
   "id": "4ac7467d-05c8-45f4-bf3f-64c99dc60a83",
   "metadata": {},
   "outputs": [
    {
     "data": {
      "text/html": [
       "<div>\n",
       "<style scoped>\n",
       "    .dataframe tbody tr th:only-of-type {\n",
       "        vertical-align: middle;\n",
       "    }\n",
       "\n",
       "    .dataframe tbody tr th {\n",
       "        vertical-align: top;\n",
       "    }\n",
       "\n",
       "    .dataframe thead th {\n",
       "        text-align: right;\n",
       "    }\n",
       "</style>\n",
       "<table border=\"1\" class=\"dataframe\">\n",
       "  <thead>\n",
       "    <tr style=\"text-align: right;\">\n",
       "      <th></th>\n",
       "      <th>0</th>\n",
       "    </tr>\n",
       "  </thead>\n",
       "  <tbody>\n",
       "    <tr>\n",
       "      <th>0</th>\n",
       "      <td>0</td>\n",
       "    </tr>\n",
       "    <tr>\n",
       "      <th>1</th>\n",
       "      <td>1</td>\n",
       "    </tr>\n",
       "    <tr>\n",
       "      <th>2</th>\n",
       "      <td>2</td>\n",
       "    </tr>\n",
       "    <tr>\n",
       "      <th>3</th>\n",
       "      <td>3</td>\n",
       "    </tr>\n",
       "    <tr>\n",
       "      <th>4</th>\n",
       "      <td>4</td>\n",
       "    </tr>\n",
       "    <tr>\n",
       "      <th>...</th>\n",
       "      <td>...</td>\n",
       "    </tr>\n",
       "    <tr>\n",
       "      <th>355141</th>\n",
       "      <td>378611</td>\n",
       "    </tr>\n",
       "    <tr>\n",
       "      <th>355142</th>\n",
       "      <td>378612</td>\n",
       "    </tr>\n",
       "    <tr>\n",
       "      <th>355143</th>\n",
       "      <td>378613</td>\n",
       "    </tr>\n",
       "    <tr>\n",
       "      <th>355144</th>\n",
       "      <td>378614</td>\n",
       "    </tr>\n",
       "    <tr>\n",
       "      <th>355145</th>\n",
       "      <td>378615</td>\n",
       "    </tr>\n",
       "  </tbody>\n",
       "</table>\n",
       "<p>355146 rows × 1 columns</p>\n",
       "</div>"
      ],
      "text/plain": [
       "             0\n",
       "0            0\n",
       "1            1\n",
       "2            2\n",
       "3            3\n",
       "4            4\n",
       "...        ...\n",
       "355141  378611\n",
       "355142  378612\n",
       "355143  378613\n",
       "355144  378614\n",
       "355145  378615\n",
       "\n",
       "[355146 rows x 1 columns]"
      ]
     },
     "execution_count": 33,
     "metadata": {},
     "output_type": "execute_result"
    }
   ],
   "source": [
    "pandas.DataFrame(list(db.imdb_movies.distinct(\"movie_id\")))"
   ]
  },
  {
   "cell_type": "markdown",
   "id": "afdecb03",
   "metadata": {
    "slideshow": {
     "slide_type": "slide"
    }
   },
   "source": [
    "*Write your answer here*"
   ]
  },
  {
   "cell_type": "markdown",
   "id": "5f33700f-c337-4516-b159-8cbe4be5c124",
   "metadata": {
    "slideshow": {
     "slide_type": "slide"
    }
   },
   "source": [
    "**Problem 1c**\n",
    "\n",
    "Using pymongo, determine how many movies are there after the year 2000?"
   ]
  },
  {
   "cell_type": "code",
   "execution_count": 34,
   "id": "0df316bb-1990-4516-9f75-e87d107edabe",
   "metadata": {},
   "outputs": [
    {
     "data": {
      "text/html": [
       "<div>\n",
       "<style scoped>\n",
       "    .dataframe tbody tr th:only-of-type {\n",
       "        vertical-align: middle;\n",
       "    }\n",
       "\n",
       "    .dataframe tbody tr th {\n",
       "        vertical-align: top;\n",
       "    }\n",
       "\n",
       "    .dataframe thead th {\n",
       "        text-align: right;\n",
       "    }\n",
       "</style>\n",
       "<table border=\"1\" class=\"dataframe\">\n",
       "  <thead>\n",
       "    <tr style=\"text-align: right;\">\n",
       "      <th></th>\n",
       "      <th>0</th>\n",
       "    </tr>\n",
       "  </thead>\n",
       "  <tbody>\n",
       "    <tr>\n",
       "      <th>0</th>\n",
       "      <td>0</td>\n",
       "    </tr>\n",
       "    <tr>\n",
       "      <th>1</th>\n",
       "      <td>10</td>\n",
       "    </tr>\n",
       "    <tr>\n",
       "      <th>2</th>\n",
       "      <td>17</td>\n",
       "    </tr>\n",
       "    <tr>\n",
       "      <th>3</th>\n",
       "      <td>21</td>\n",
       "    </tr>\n",
       "    <tr>\n",
       "      <th>4</th>\n",
       "      <td>33</td>\n",
       "    </tr>\n",
       "    <tr>\n",
       "      <th>...</th>\n",
       "      <td>...</td>\n",
       "    </tr>\n",
       "    <tr>\n",
       "      <th>39581</th>\n",
       "      <td>378565</td>\n",
       "    </tr>\n",
       "    <tr>\n",
       "      <th>39582</th>\n",
       "      <td>378576</td>\n",
       "    </tr>\n",
       "    <tr>\n",
       "      <th>39583</th>\n",
       "      <td>378583</td>\n",
       "    </tr>\n",
       "    <tr>\n",
       "      <th>39584</th>\n",
       "      <td>378599</td>\n",
       "    </tr>\n",
       "    <tr>\n",
       "      <th>39585</th>\n",
       "      <td>378615</td>\n",
       "    </tr>\n",
       "  </tbody>\n",
       "</table>\n",
       "<p>39586 rows × 1 columns</p>\n",
       "</div>"
      ],
      "text/plain": [
       "            0\n",
       "0           0\n",
       "1          10\n",
       "2          17\n",
       "3          21\n",
       "4          33\n",
       "...       ...\n",
       "39581  378565\n",
       "39582  378576\n",
       "39583  378583\n",
       "39584  378599\n",
       "39585  378615\n",
       "\n",
       "[39586 rows x 1 columns]"
      ]
     },
     "execution_count": 34,
     "metadata": {},
     "output_type": "execute_result"
    }
   ],
   "source": [
    "pandas.DataFrame(list(db.imdb_movies.find({\"year\": {\"$gt\":2000}}).distinct(\"movie_id\")\n",
    "                     ))"
   ]
  },
  {
   "cell_type": "markdown",
   "id": "14af7e69-2db0-480e-bc6f-9b28964167e1",
   "metadata": {
    "slideshow": {
     "slide_type": "slide"
    }
   },
   "source": [
    "*Write your answer here*"
   ]
  },
  {
   "cell_type": "markdown",
   "id": "3dfbf89f",
   "metadata": {
    "slideshow": {
     "slide_type": "slide"
    }
   },
   "source": [
    "**Problem 1d**\n",
    "\n",
    "How many different movie genres are there?"
   ]
  },
  {
   "cell_type": "code",
   "execution_count": 35,
   "id": "e4763794-2e16-496a-8b43-90b25145bd86",
   "metadata": {},
   "outputs": [
    {
     "data": {
      "text/html": [
       "<div>\n",
       "<style scoped>\n",
       "    .dataframe tbody tr th:only-of-type {\n",
       "        vertical-align: middle;\n",
       "    }\n",
       "\n",
       "    .dataframe tbody tr th {\n",
       "        vertical-align: top;\n",
       "    }\n",
       "\n",
       "    .dataframe thead th {\n",
       "        text-align: right;\n",
       "    }\n",
       "</style>\n",
       "<table border=\"1\" class=\"dataframe\">\n",
       "  <thead>\n",
       "    <tr style=\"text-align: right;\">\n",
       "      <th></th>\n",
       "      <th>0</th>\n",
       "    </tr>\n",
       "  </thead>\n",
       "  <tbody>\n",
       "    <tr>\n",
       "      <th>0</th>\n",
       "      <td>Action</td>\n",
       "    </tr>\n",
       "    <tr>\n",
       "      <th>1</th>\n",
       "      <td>Adult</td>\n",
       "    </tr>\n",
       "    <tr>\n",
       "      <th>2</th>\n",
       "      <td>Adventure</td>\n",
       "    </tr>\n",
       "    <tr>\n",
       "      <th>3</th>\n",
       "      <td>Animation</td>\n",
       "    </tr>\n",
       "    <tr>\n",
       "      <th>4</th>\n",
       "      <td>Comedy</td>\n",
       "    </tr>\n",
       "    <tr>\n",
       "      <th>5</th>\n",
       "      <td>Crime</td>\n",
       "    </tr>\n",
       "    <tr>\n",
       "      <th>6</th>\n",
       "      <td>Documentary</td>\n",
       "    </tr>\n",
       "    <tr>\n",
       "      <th>7</th>\n",
       "      <td>Drama</td>\n",
       "    </tr>\n",
       "    <tr>\n",
       "      <th>8</th>\n",
       "      <td>Family</td>\n",
       "    </tr>\n",
       "    <tr>\n",
       "      <th>9</th>\n",
       "      <td>Fantasy</td>\n",
       "    </tr>\n",
       "    <tr>\n",
       "      <th>10</th>\n",
       "      <td>Film-Noir</td>\n",
       "    </tr>\n",
       "    <tr>\n",
       "      <th>11</th>\n",
       "      <td>Horror</td>\n",
       "    </tr>\n",
       "    <tr>\n",
       "      <th>12</th>\n",
       "      <td>Music</td>\n",
       "    </tr>\n",
       "    <tr>\n",
       "      <th>13</th>\n",
       "      <td>Musical</td>\n",
       "    </tr>\n",
       "    <tr>\n",
       "      <th>14</th>\n",
       "      <td>Mystery</td>\n",
       "    </tr>\n",
       "    <tr>\n",
       "      <th>15</th>\n",
       "      <td>Romance</td>\n",
       "    </tr>\n",
       "    <tr>\n",
       "      <th>16</th>\n",
       "      <td>Sci-Fi</td>\n",
       "    </tr>\n",
       "    <tr>\n",
       "      <th>17</th>\n",
       "      <td>Short</td>\n",
       "    </tr>\n",
       "    <tr>\n",
       "      <th>18</th>\n",
       "      <td>Thriller</td>\n",
       "    </tr>\n",
       "    <tr>\n",
       "      <th>19</th>\n",
       "      <td>War</td>\n",
       "    </tr>\n",
       "    <tr>\n",
       "      <th>20</th>\n",
       "      <td>Western</td>\n",
       "    </tr>\n",
       "  </tbody>\n",
       "</table>\n",
       "</div>"
      ],
      "text/plain": [
       "              0\n",
       "0        Action\n",
       "1         Adult\n",
       "2     Adventure\n",
       "3     Animation\n",
       "4        Comedy\n",
       "5         Crime\n",
       "6   Documentary\n",
       "7         Drama\n",
       "8        Family\n",
       "9       Fantasy\n",
       "10    Film-Noir\n",
       "11       Horror\n",
       "12        Music\n",
       "13      Musical\n",
       "14      Mystery\n",
       "15      Romance\n",
       "16       Sci-Fi\n",
       "17        Short\n",
       "18     Thriller\n",
       "19          War\n",
       "20      Western"
      ]
     },
     "execution_count": 35,
     "metadata": {},
     "output_type": "execute_result"
    }
   ],
   "source": [
    "pandas.DataFrame(list(db.imdb_movies_genres.distinct(\"genre\")\n",
    "                     ))"
   ]
  },
  {
   "cell_type": "markdown",
   "id": "895a7e0f",
   "metadata": {
    "slideshow": {
     "slide_type": "slide"
    }
   },
   "source": [
    "## Problem 2) Groups and Aggregates"
   ]
  },
  {
   "cell_type": "markdown",
   "id": "514a9758",
   "metadata": {
    "slideshow": {
     "slide_type": "slide"
    }
   },
   "source": [
    "Now that we know why the data has been organized in this way, we can leverage this unique structure in order to learn interesting properties of the data. "
   ]
  },
  {
   "cell_type": "markdown",
   "id": "48868d33",
   "metadata": {
    "slideshow": {
     "slide_type": "slide"
    }
   },
   "source": [
    "**Problem 2a**\n",
    "\n",
    "In which year were the most movies made according to IMDb?"
   ]
  },
  {
   "cell_type": "code",
   "execution_count": null,
   "id": "ce06d8bc-1eae-4a97-bb02-03a2de9de563",
   "metadata": {},
   "outputs": [],
   "source": [
    "db.content.aggregate({\"$group\": {\"$gt\":2000}}).distinct(\"movie_id\")\n",
    "                     ))\n",
    "db.contest.aggregate([\n",
    "    {\"$group\" : {_id:\"$province\", count:{$sum:1}}}\n",
    "])"
   ]
  },
  {
   "cell_type": "markdown",
   "id": "71d8aafa",
   "metadata": {},
   "source": [
    "*write your answer here*"
   ]
  },
  {
   "cell_type": "markdown",
   "id": "412a5096-7370-4191-a0ff-7fc09b4c9581",
   "metadata": {
    "slideshow": {
     "slide_type": "slide"
    }
   },
   "source": [
    "**Problem 2b**\n",
    "\n",
    "How many \"Action\" movies where made after the year 1980? Before the year 1980?"
   ]
  },
  {
   "cell_type": "code",
   "execution_count": null,
   "id": "6c3eb8ed-8fbc-4267-b255-d2ef444146c6",
   "metadata": {},
   "outputs": [],
   "source": []
  },
  {
   "cell_type": "code",
   "execution_count": null,
   "id": "2730beff-369a-4c73-a577-4c27fdc72050",
   "metadata": {},
   "outputs": [],
   "source": []
  },
  {
   "cell_type": "markdown",
   "id": "f5b7cc4d-511a-4b7a-8f22-1c012d5e85d0",
   "metadata": {},
   "source": [
    "*write your answer here*"
   ]
  },
  {
   "cell_type": "markdown",
   "id": "dbd359c1-4220-4d23-8a2c-0b0caf2c0428",
   "metadata": {
    "slideshow": {
     "slide_type": "slide"
    }
   },
   "source": [
    "**Problem 3c**\n",
    "\n",
    "Select all films made by `Scorsese`. How many are there?"
   ]
  },
  {
   "cell_type": "code",
   "execution_count": null,
   "id": "48e05be5-8e45-47e1-a6a1-d741db56ba8c",
   "metadata": {},
   "outputs": [],
   "source": []
  },
  {
   "cell_type": "markdown",
   "id": "efbb3935-7fbc-43d4-b4d6-860efdf33d0b",
   "metadata": {},
   "source": [
    "*write your answer here*"
   ]
  },
  {
   "cell_type": "markdown",
   "id": "8af9b49b-b2f7-433c-ab3c-ce5dc70791e3",
   "metadata": {
    "slideshow": {
     "slide_type": "slide"
    }
   },
   "source": [
    "**Problem 3c**\n",
    "\n",
    "According the the IMDb data, which director has directed the most movies?"
   ]
  },
  {
   "cell_type": "code",
   "execution_count": null,
   "id": "037ac64c-f67d-4dad-bf6e-cc3040d14bf4",
   "metadata": {},
   "outputs": [],
   "source": []
  },
  {
   "cell_type": "markdown",
   "id": "e9e4b01c-a043-4ab7-8ef6-a1b8a4a6c39f",
   "metadata": {},
   "source": [
    "*write your answer here*"
   ]
  },
  {
   "cell_type": "markdown",
   "id": "aaaa4de6-e7ec-411b-83e3-ea0f0e6a3992",
   "metadata": {
    "slideshow": {
     "slide_type": "slide"
    }
   },
   "source": [
    "**Problem 3d**\n",
    "\n",
    "According the the IMDb data, which director has directed the most movies in each genre?"
   ]
  },
  {
   "cell_type": "code",
   "execution_count": null,
   "id": "490fec59-b4b3-445e-b3a3-0fd91714ccf7",
   "metadata": {},
   "outputs": [],
   "source": []
  },
  {
   "cell_type": "markdown",
   "id": "7da2c752-3f3d-44ee-8e8c-075aa9d87dc9",
   "metadata": {},
   "source": [
    "*write your answer here*"
   ]
  },
  {
   "cell_type": "markdown",
   "id": "56a386a8",
   "metadata": {
    "slideshow": {
     "slide_type": "slide"
    }
   },
   "source": [
    "## Challenge Problem) Make your own tables"
   ]
  },
  {
   "cell_type": "markdown",
   "id": "7d248de8-d4c1-432f-b684-824f92e4170b",
   "metadata": {
    "slideshow": {
     "slide_type": "slide"
    }
   },
   "source": [
    "**Problem 1a**\n",
    "\n",
    "Create a new \"collection\"."
   ]
  },
  {
   "cell_type": "code",
   "execution_count": null,
   "id": "0b5de22d-a6fd-40cc-b049-e9c80096d6fd",
   "metadata": {},
   "outputs": [],
   "source": []
  },
  {
   "cell_type": "markdown",
   "id": "22230b1a-c201-4e9e-a6a5-e7d73e48f73d",
   "metadata": {
    "slideshow": {
     "slide_type": "slide"
    }
   },
   "source": [
    "**Problem 1b**\n",
    "\n",
    "INSERT 3 \"documentions\" into the \"collection you made above"
   ]
  },
  {
   "cell_type": "code",
   "execution_count": null,
   "id": "f3729463-01a9-4a95-bb12-688ad87c0ef7",
   "metadata": {},
   "outputs": [],
   "source": []
  },
  {
   "cell_type": "markdown",
   "id": "e824e54e-1537-465e-8491-34e8f13d92c3",
   "metadata": {
    "slideshow": {
     "slide_type": "slide"
    }
   },
   "source": [
    "**Problem 1c**\n",
    "\n",
    "Create a pandas DataFrame and save the rows as \"documents\" in a new \"collection\" you make\n",
    "\n",
    "*** hint look at using `pandas.to_dict` ****"
   ]
  },
  {
   "cell_type": "code",
   "execution_count": null,
   "id": "7c5ad202-7105-4da0-acc5-855c7d7fc4b6",
   "metadata": {},
   "outputs": [],
   "source": []
  }
 ],
 "metadata": {
  "celltoolbar": "Slideshow",
  "kernelspec": {
   "display_name": "Python 3 (ipykernel)",
   "language": "python",
   "name": "python3"
  },
  "language_info": {
   "codemirror_mode": {
    "name": "ipython",
    "version": 3
   },
   "file_extension": ".py",
   "mimetype": "text/x-python",
   "name": "python",
   "nbconvert_exporter": "python",
   "pygments_lexer": "ipython3",
   "version": "3.9.12"
  },
  "livereveal": {
   "height": 768,
   "scroll": true,
   "start_slideshow_at": "selected",
   "theme": "solarized",
   "width": 1024
  }
 },
 "nbformat": 4,
 "nbformat_minor": 5
}
