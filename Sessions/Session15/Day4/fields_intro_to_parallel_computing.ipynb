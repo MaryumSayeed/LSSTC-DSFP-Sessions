{
 "cells": [
  {
   "cell_type": "code",
   "execution_count": 1,
   "metadata": {},
   "outputs": [],
   "source": [
    "from __future__ import print_function, division, absolute_import"
   ]
  },
  {
   "cell_type": "markdown",
   "metadata": {},
   "source": [
    "# Introduction to Parallel Computing - Targeting CPUs (in Python):\n",
    "\n",
    "By Carl Fields (Los Alamos National Lab)\n",
    "\n",
    "*This exercise was designed in part based on tutorials from the [Scipy 2017 workshop](https://github.com/gforsyth/numba_tutorial_scipy2017) and the Numba [Tutorials]((https://numba.readthedocs.io/en/stable/user/examples.html) Pages.* \n",
    "\n",
    "---"
   ]
  },
  {
   "cell_type": "markdown",
   "metadata": {},
   "source": [
    "## Learning Objectives\n",
    "\n",
    "- Using Numba decorators to speed up algorithms\n",
    "- Using `timeit` profiler for generic algorithm profiling\n",
    "- Creating complex alogrithms utilizing Numba decorators\n",
    "- Using `line_profiler` to expose parallelizable regions in complex algorithms\n",
    "- Creating Numpy Ufuncs\n",
    "- Exploring shared memory parallelism in Numba\n",
    "- Characterizing strong scaling \n",
    "---"
   ]
  },
  {
   "cell_type": "markdown",
   "metadata": {},
   "source": [
    "## Problem 0) Creating Our HPC Environment\n",
    "**Before** beginning, we want to prepare a new environment for the purpose of this exercise.\n",
    "\n",
    "Run the following on the command line:\n",
    "\n",
    "```linux\n",
    "$ conda create --name hpc\n",
    "$ conda activate hpc\n",
    "```\n",
    "\n",
    "After doing so, we want to install a few tools that will be needed for this notebook:\n",
    "\n",
    "```linux\n",
    "$ conda install -c conda-forge jupyter ipython numpy numba line_profiler matplotlib\n",
    "```\n",
    "\n",
    "---\n",
    "\n"
   ]
  },
  {
   "cell_type": "markdown",
   "metadata": {},
   "source": [
    "We can check that our installation worked by trying to import the required libraries:"
   ]
  },
  {
   "cell_type": "code",
   "execution_count": 2,
   "metadata": {},
   "outputs": [],
   "source": [
    "import numpy as np\n",
    "import math\n",
    "import matplotlib.pyplot as plt\n",
    "\n",
    "# %matplotlib notebook"
   ]
  },
  {
   "cell_type": "markdown",
   "metadata": {},
   "source": [
    "## Problem 1) Exploring a basic algorithm"
   ]
  },
  {
   "cell_type": "markdown",
   "metadata": {},
   "source": [
    "We want to define a function first: we will use a function designed to compute the Hypotenuse of a right angle triangle.\n",
    "\n",
    "A common problem with the straightforward implementation is the potential for arithmetic overflow when computing the sqaures. `Hypot` is an equivalent algorithm that aims to avoid this problem (https://en.wikipedia.org/wiki/Pythagorean_addition):\n",
    "\n",
    "We want to solve $$c = x\\sqrt{1+(t^2)}$$ given that $$x=|x|$$ and $$y=|y|$$ We also define $$t=min(|x|,|y|)$$ and $$x=max(|x|,|y|)$$ And lastly, defining $$t=t/x$$, we can solve our original equation avoiding [underflow](https://en.wikipedia.org/wiki/Arithmetic_underflow) or [overflow](https://en.wikipedia.org/wiki/Integer_overflow). "
   ]
  },
  {
   "cell_type": "markdown",
   "metadata": {},
   "source": [
    "**Problem 1a** Write your `Hypot` routine here:"
   ]
  },
  {
   "cell_type": "code",
   "execution_count": 3,
   "metadata": {},
   "outputs": [],
   "source": [
    "# definition here https://en.wikipedia.org/wiki/Pythagorean_addition\n",
    "def hypot(x, y):\n",
    "    '''Calculate hypotenuse given x and y'''\n",
    "    return np.sqrt(x**2+y**2) # complete"
   ]
  },
  {
   "cell_type": "markdown",
   "metadata": {},
   "source": [
    "**Problem 1b** Run your `Hypot` routine for a triangle with side lengths of $$x=3$$ and $$y=5~.$$ \n",
    "\n",
    "Does the result make sense?"
   ]
  },
  {
   "cell_type": "code",
   "execution_count": 4,
   "metadata": {
    "scrolled": true
   },
   "outputs": [
    {
     "data": {
      "text/plain": [
       "5.830951894845301"
      ]
     },
     "execution_count": 4,
     "metadata": {},
     "output_type": "execute_result"
    }
   ],
   "source": [
    "hypot(3,5)"
   ]
  },
  {
   "cell_type": "markdown",
   "metadata": {},
   "source": [
    "Using `timeit` to measure performance\n",
    "\n",
    "\n",
    "We want to start by exploring some options available for profiling or timing a given piece or code or routine. This will allow us to assess any potential areas of a code that might be performing slowly and/or expose a potentially parallelizable region. \n",
    "\n",
    "Lets start by considering [timeit- *Measure execution time of small code snippets* ](https://docs.python.org/3/library/timeit.html)."
   ]
  },
  {
   "cell_type": "markdown",
   "metadata": {},
   "source": [
    "**Problem 1c** Run your `Hypot` routine here using the `timeit` preamble:"
   ]
  },
  {
   "cell_type": "code",
   "execution_count": 9,
   "metadata": {},
   "outputs": [
    {
     "name": "stdout",
     "output_type": "stream",
     "text": [
      "1.39 µs ± 4.88 ns per loop (mean ± std. dev. of 7 runs, 1,000,000 loops each)\n"
     ]
    }
   ],
   "source": [
    "%timeit hypot(3,5) # complete"
   ]
  },
  {
   "cell_type": "markdown",
   "metadata": {},
   "source": [
    "Ok, what do the results mean? Is that fast? Is it efficient? We don't know yet. Let's try to start answering this question by leveraging the tools in `Numba`.\n",
    "\n",
    "`Numba` *translates Python functions to optimized machine code at runtime using the industry-standard LLVM compiler library. Numba-compiled numerical algorithms in Python can approach the speeds of C or FORTRAN.* Documentation can be found [here](https://numba.pydata.org/). \n",
    "\n",
    "One of the most straightforward ways to leverage `Numba` is to mark routines for optimization using the Just-In-Time compilation decorators. More details about this can be found [here](https://numba.readthedocs.io/en/stable/reference/jit-compilation.html#numba.jit).\n",
    "\n",
    "In general, the `@jit` decorators will be added before the defintion of an algorithm. "
   ]
  },
  {
   "cell_type": "markdown",
   "metadata": {},
   "source": [
    "**Problem 1d** Write `Hypot` routine this time using the `@jit` decorator from numba:"
   ]
  },
  {
   "cell_type": "code",
   "execution_count": 6,
   "metadata": {},
   "outputs": [],
   "source": [
    "from numba import jit"
   ]
  },
  {
   "cell_type": "code",
   "execution_count": 7,
   "metadata": {},
   "outputs": [],
   "source": [
    "@jit #complete\n",
    "def hypot_numba(x, y):\n",
    "    return np.sqrt(x**2+y**2) # complete"
   ]
  },
  {
   "cell_type": "markdown",
   "metadata": {},
   "source": [
    "**Problem 1e** Compare your original routine to your new routine using Numba:\n",
    "\n",
    "\n",
    "*Hint- Numba should be about 4 time faster!* You may have to run the Numba routine twice."
   ]
  },
  {
   "cell_type": "code",
   "execution_count": 10,
   "metadata": {},
   "outputs": [
    {
     "name": "stdout",
     "output_type": "stream",
     "text": [
      "113 ns ± 0.844 ns per loop (mean ± std. dev. of 7 runs, 10,000,000 loops each)\n"
     ]
    }
   ],
   "source": [
    "%timeit hypot_numba(3,5) # complete"
   ]
  },
  {
   "cell_type": "markdown",
   "metadata": {},
   "source": [
    "## Problem 2) Exploring a complex algorithm\n",
    "\n",
    "While the speedup we observe here is great. We can do even better. When optimizing algorithms, `Numba` will first attempt to use no Python. But if this fails, it will try again using Python. The fastest performance increase will be when the optimization can be made without Python. More details can be found [here](https://numba.pydata.org/numba-doc/latest/user/performance-tips.html). Next, we will consider a more complex algorithm and ensure the optimization is made without python. \n",
    "\n",
    "We will explore an example that highlights Numba's loop parallelization strengths. \n"
   ]
  },
  {
   "cell_type": "markdown",
   "metadata": {},
   "source": [
    "**Problem 2a** Run the following algorithm to compute the Mandelbrot set. Background on the algorithm can be found [here](https://en.wikipedia.org/wiki/Plotting_algorithms_for_the_Mandelbrot_set):"
   ]
  },
  {
   "cell_type": "code",
   "execution_count": 11,
   "metadata": {},
   "outputs": [],
   "source": [
    "def mandel(x, y, max_iters):\n",
    "    \"\"\"\n",
    "    Given the real and imaginary parts of a complex number,\n",
    "    determine if it is a candidate for membership in the Mandelbrot\n",
    "    set given a fixed number of iterations.\n",
    "    \"\"\"\n",
    "    i = 0\n",
    "    c = complex(x, y)\n",
    "    z = 0.0j\n",
    "    for i in range(max_iters):\n",
    "        z = z * z + c\n",
    "        if (z.real * z.real + z.imag * z.imag) >= 4:\n",
    "            return i\n",
    "\n",
    "    return 255\n",
    "\n",
    "def create_fractal(min_x, max_x, min_y, max_y, image, iters):\n",
    "    height = image.shape[0]\n",
    "    width = image.shape[1]\n",
    "\n",
    "    pixel_size_x = (max_x - min_x) / width\n",
    "    pixel_size_y = (max_y - min_y) / height\n",
    "    for x in range(width):\n",
    "        real = min_x + x * pixel_size_x\n",
    "        for y in range(height):\n",
    "            imag = min_y + y * pixel_size_y\n",
    "            color = mandel(real, imag, iters)\n",
    "            image[y, x] = color\n",
    "\n",
    "    return image"
   ]
  },
  {
   "cell_type": "markdown",
   "metadata": {},
   "source": [
    "Run the acutal code here using the lines below. \n",
    "\n",
    "Note: changing the image dimension can significantly change the run time. The chosen values here can run in less than a minute for the unoptimized version. "
   ]
  },
  {
   "cell_type": "code",
   "execution_count": 12,
   "metadata": {},
   "outputs": [],
   "source": [
    "image = np.zeros((500 * 2, 750 * 2), dtype=np.uint8)\n",
    "image = create_fractal(-2.0, 1.0, -1.0, 1.0, image, 20)"
   ]
  },
  {
   "cell_type": "code",
   "execution_count": 14,
   "metadata": {
    "scrolled": false
   },
   "outputs": [
    {
     "data": {
      "image/png": "[encoded data removed]",
      "text/plain": [
       "<Figure size 360x288 with 2 Axes>"
      ]
     },
     "metadata": {
      "needs_background": "light"
     },
     "output_type": "display_data"
    }
   ],
   "source": [
    "# plot the results - for fun!\n",
    "plt.figure(figsize=(5,4))\n",
    "plt.imshow(image, cmap='inferno')\n",
    "plt.colorbar();"
   ]
  },
  {
   "cell_type": "markdown",
   "metadata": {},
   "source": [
    "Before optimizing, lets deteremine the speed of the default algorithm. \n",
    " \n",
    "Note: timeit is a magic command part of those defined [here](https://ipython.readthedocs.io/en/stable/interactive/magics.html)\n",
    "\n",
    "Rerun our \"program\", the two image lines from before, using `timeit` for a cell.  "
   ]
  },
  {
   "cell_type": "code",
   "execution_count": 21,
   "metadata": {},
   "outputs": [
    {
     "name": "stdout",
     "output_type": "stream",
     "text": [
      "3.36 s ± 22.5 ms per loop (mean ± std. dev. of 7 runs, 1 loop each)\n"
     ]
    }
   ],
   "source": [
    "%%timeit \n",
    "image = np.zeros((500 * 2, 750 * 2), dtype=np.uint8)\n",
    "image = create_fractal(-2.0, 1.0, -1.0, 1.0, image, 20)\n"
   ]
  },
  {
   "cell_type": "markdown",
   "metadata": {},
   "source": [
    "**Problem 2b** Rewrite and time the Mendelbrot routines using Numba decorators specifying no python:\n",
    "\n",
    "Note: the `@njit` decorator is equivalent to `@jit(nopython=True)`."
   ]
  },
  {
   "cell_type": "code",
   "execution_count": 24,
   "metadata": {},
   "outputs": [],
   "source": [
    "from numba import njit"
   ]
  },
  {
   "cell_type": "code",
   "execution_count": 25,
   "metadata": {},
   "outputs": [],
   "source": [
    "@njit #complete\n",
    "def mandel_numba(x, y, max_iters):\n",
    "    \"\"\"\n",
    "    Given the real and imaginary parts of a complex number,\n",
    "    determine if it is a candidate for membership in the Mandelbrot\n",
    "    set given a fixed number of iterations.\n",
    "    \"\"\"\n",
    "    i = 0\n",
    "    c = complex(x, y)\n",
    "    z = 0.0j\n",
    "    for i in range(max_iters):\n",
    "        z = z * z + c\n",
    "        if (z.real * z.real + z.imag * z.imag) >= 4:\n",
    "            return i\n",
    "\n",
    "    return 255\n",
    "\n",
    "@njit #complete\n",
    "def create_fractal_numba(min_x, max_x, min_y, max_y, image, iters):\n",
    "    height = image.shape[0]\n",
    "    width = image.shape[1]\n",
    "\n",
    "    pixel_size_x = (max_x - min_x) / width\n",
    "    pixel_size_y = (max_y - min_y) / height\n",
    "    for x in range(width):\n",
    "        real = min_x + x * pixel_size_x\n",
    "        for y in range(height):\n",
    "            imag = min_y + y * pixel_size_y\n",
    "            color = mandel_numba(real, imag, iters)\n",
    "            image[y, x] = color\n",
    "\n",
    "    return image"
   ]
  },
  {
   "cell_type": "markdown",
   "metadata": {},
   "source": [
    "Use the `timeit` tool again to see if you obtained a speedup.\n",
    "\n",
    "Hint: You should see a speedup!"
   ]
  },
  {
   "cell_type": "code",
   "execution_count": 28,
   "metadata": {},
   "outputs": [
    {
     "name": "stdout",
     "output_type": "stream",
     "text": [
      "24.5 ms ± 173 µs per loop (mean ± std. dev. of 7 runs, 10 loops each)\n"
     ]
    }
   ],
   "source": [
    "%%timeit\n",
    "image_numba = np.zeros((500 * 2, 750 * 2), dtype=np.uint8)\n",
    "image_numba = create_fractal_numba(-2.0, 1.0, -1.0, 1.0, image_numba, 20)\n"
   ]
  },
  {
   "cell_type": "markdown",
   "metadata": {},
   "source": [
    "**Question**: What is going on? What is Numba doing and why is this example so much faster than our `Hypot` example?\n",
    "    \n",
    "**Answer**: Numba reads the Python bytecode for a decorated function and combines this with information about the types of the input arguments to the function. It analyzes and optimizes your code, and finally uses the LLVM compiler library to generate a machine code version of your function, **targeted to your CPU** capabilities. This compiled version is then used every time your function is called.    \n",
    "\n",
    "Numba excels with \n",
    "- loops\n",
    "- fastmath\n",
    "- linear algebra\n",
    "\n",
    "read more about these performance tips [here](https://numba.pydata.org/numba-doc/latest/user/performance-tips.html#performance-tips). \n",
    "\n",
    "We benefitted from significant speedup in Problem 2 in part by being able to parallelize the nested loop in `create_fractal`.\n",
    "    "
   ]
  },
  {
   "cell_type": "markdown",
   "metadata": {},
   "source": [
    "## Problem 3) Exposing parallelization in complex programs: Cavity Flow\n",
    "Now, lets consider a \"program\" or set of instructions that take place perform a given task. \n",
    "\n",
    "The following example is based on the Cavity Flow example as part of [Scipy 2017](https://github.com/gforsyth/numba_tutorial_scipy2017/blob/master/notebooks/05.1.Cavity_Flow.ipynb).\n",
    "\n",
    "The two-dimensional (2D) lid-driven cavity is a well-known benchmark problem for viscous incompressible fluid flow. The problem describes a rectangular cavity with constant velocity at the lid. The resulting velocity field shows a signiture spiral flow pattern with two pressure deficits. We will be interested in solving the pressure field. \n",
    "\n",
    "![CavityFlow](https://j.gifs.com/vnJ88M.gif)\n",
    "\n",
    "The pressure field is given by the Poisson equation, an [elliptic PDE](https://en.wikipedia.org/wiki/Elliptic_partial_differential_equation) with a solution of the form:"
   ]
  },
  {
   "cell_type": "markdown",
   "metadata": {},
   "source": [
    "**Equation 1**\n",
    "$$\n",
    "\\begin{align}\n",
    "    p_{i,j}^{n+1} &= \\frac{1}{4}\\left(p_{i+1,j}^{n}+p_{i-1,j}^{n}+p_{i,j+1}^{n}+p_{i,j-1}^{n}\\right)\\\\\\\\\n",
    "    &-\\frac{\\rho \\Delta x}{16} \\left( \\frac{2}{\\Delta t} \\left(u_{i+1,j} - u_{i-1,j} + v_{i,j+1} - v_{i,j-1}\\right) \\right . \\\\\\\\\n",
    "    &-\\frac{2}{\\Delta x}\\left(u_{i,j+1} - u_{i,j-1} \\right) \\left(v_{i+1,j} - v_{i-1,j} \\right) \\\\\\\\\n",
    "    &- \\left . \\frac{\\left(u_{i+1,j} - u_{i-1,j} \\right)^2}{\\Delta x}\n",
    "    - \\frac{ \\left(v_{i,j+1} - v_{i,j-1} \\right)^2 }{\\Delta x} \\right)\\\\\\\\\n",
    "   \\end{align} \n",
    "$$"
   ]
  },
  {
   "cell_type": "markdown",
   "metadata": {},
   "source": [
    "We will start by writing out the terms of Equation 1. This has been done for you. "
   ]
  },
  {
   "cell_type": "code",
   "execution_count": 29,
   "metadata": {},
   "outputs": [],
   "source": [
    "# solves the velocity terms of Eqn 1. \n",
    "def velocity_term(b, rho, dt, u, v, dx):\n",
    "    b[1:-1, 1:-1] = (\n",
    "        rho * dx / 16 * \n",
    "        (2 / dt * (u[2:, 1:-1] - \n",
    "                   u[:-2, 1:-1] + \n",
    "                   v[1:-1, 2:] - \n",
    "                   v[1:-1, :-2]) - \n",
    "        2 / dx * (u[1:-1, 2:] - u[1:-1, :-2]) *\n",
    "                 (v[2:, 1:-1] - v[:-2, 1:-1]) - \n",
    "        (u[2:, 1:-1] - u[:-2, 1:-1])**2 / dx - \n",
    "        (v[1:-1, 2:] - v[1:-1, :-2])**2 / dx)\n",
    "                     )\n",
    "\n",
    "    return b"
   ]
  },
  {
   "cell_type": "code",
   "execution_count": 49,
   "metadata": {},
   "outputs": [],
   "source": [
    "@njit\n",
    "def pressure_poisson(p, b, l2_target):\n",
    "    iter_diff = l2_target + 1\n",
    "    n = 0\n",
    "    while iter_diff > l2_target and n <= 500:\n",
    "\n",
    "        pn = p.copy()\n",
    "        p[1:-1,1:-1] = (.25 * (pn[2:, 1:-1] +\n",
    "                               pn[:-2, 1:-1] +\n",
    "                               pn[1:-1, 2:] +\n",
    "                               pn[1:-1, :-2]) -\n",
    "                               b[1:-1, 1:-1])\n",
    "\n",
    "        p[:, 0] = p[:, 1]   #dp/dy = 0 at y = 0\n",
    "        p[:, -1] = 0        #p = 0 at y = 2\n",
    "        p[0, :] = p[1, :]   #dp/dx = 0 at x = 0\n",
    "        p[-1, :] = p[-2, :] #dp/dy = 0 at x = 2\n",
    "      \n",
    "        \n",
    "        if n % 10 == 0:\n",
    "            iter_diff = np.sqrt(np.sum((p - pn)**2)/np.sum(pn**2))\n",
    "                    \n",
    "        n += 1\n",
    "        \n",
    "    return p"
   ]
  },
  {
   "cell_type": "markdown",
   "metadata": {},
   "source": [
    "Next, to help alleviate hard coding and to focus on optimatization, we will load a file `ns_helper` that contains the additional information for the Cavity Flow problem and solution to the [Navier-Stokes equations](https://en.wikipedia.org/wiki/Navier%E2%80%93Stokes_equations#Stream_function_for_incompressible_2D_fluid) using finite-difference methods (https://en.wikipedia.org/wiki/Finite_difference_method)."
   ]
  },
  {
   "cell_type": "code",
   "execution_count": 31,
   "metadata": {},
   "outputs": [],
   "source": [
    "from ns_helper import * # complete"
   ]
  },
  {
   "cell_type": "markdown",
   "metadata": {},
   "source": [
    "We will also want to import initial condition for the velocity field. We will utilize [pickle](https://docs.python.org/3/library/pickle.html). `pickle` examples can be found [here](https://docs.python.org/3/library/pickle.html#examples). Our initial data live in `IC.pickle`."
   ]
  },
  {
   "cell_type": "code",
   "execution_count": 35,
   "metadata": {},
   "outputs": [],
   "source": [
    "import pickle"
   ]
  },
  {
   "cell_type": "markdown",
   "metadata": {},
   "source": [
    "**Problem 3a** Write your program to use the necessary pieces to solve the equation:"
   ]
  },
  {
   "cell_type": "code",
   "execution_count": 36,
   "metadata": {},
   "outputs": [],
   "source": [
    "def run_cavity():\n",
    "    nx = 41 # fixed to 41 \n",
    "    ny = 41 # fixed to 41 \n",
    "    with open('IC.pickle', 'rb') as f:\n",
    "        u, v, p, b = pickle.load(f)\n",
    "\n",
    "    dx = 2 / (nx - 1) \n",
    "    dt = .005 # < 0.1\n",
    "    nt = 1000 # < 1000\n",
    "    \n",
    "    cf = cavity_flow(u, v, p, nt, dt, dx, velocity_term, pressure_poisson, rho=1, nu=0.1, rtol=1e-3)\n",
    "    # call cavity flow here - view `ns_helper` to determine the required args and output\n",
    "    # complete\n",
    "    \n",
    "    return  cf"
   ]
  },
  {
   "cell_type": "markdown",
   "metadata": {},
   "source": [
    "**Problem 3b** Call your program"
   ]
  },
  {
   "cell_type": "code",
   "execution_count": 39,
   "metadata": {},
   "outputs": [],
   "source": [
    "cf_u, cf_v, cf_p = run_cavity() # complete"
   ]
  },
  {
   "cell_type": "markdown",
   "metadata": {},
   "source": [
    "**Problem 3c** `ns_helper` also contains a helper function to plot the resulting pressure field - `quiver_plot`. Import this function and run it using the results of your program run:"
   ]
  },
  {
   "cell_type": "code",
   "execution_count": 40,
   "metadata": {
    "collapsed": true
   },
   "outputs": [
    {
     "data": {
      "image/png": "[encoded data removed]",
      "text/plain": [
       "<Figure size 1100x700 with 2 Axes>"
      ]
     },
     "metadata": {
      "needs_background": "light"
     },
     "output_type": "display_data"
    }
   ],
   "source": [
    "quiver_plot(cf_u, cf_v, cf_p, nx=41) # complete"
   ]
  },
  {
   "cell_type": "markdown",
   "metadata": {},
   "source": [
    "*Hint: you should see something that looks like the gif from earlier, but with contours, quivers, and a better colormap!*"
   ]
  },
  {
   "cell_type": "markdown",
   "metadata": {},
   "source": [
    "**Problem 3d** Now, we want to begin profiling our program and determining its speed. To do this, we will need to add additional steps. \n",
    "\n",
    "1. Run our magic `timeit` command. \n",
    "\n",
    "2. Load the `line_profiler` tool that we downloaded. This tool is described [here](https://ipython-books.github.io/43-profiling-your-code-line-by-line-with-line_profiler/).\n",
    "\n",
    "3. Run the `line_profiler` tool.\n",
    "\n",
    "*Hint: you will want to use the magic command `lprun` with flags `-f main_program our_program()`*.\n",
    "\n",
    "In this case, `main_program` would be the `cavity_flow` program we loaded from the helper file and `our_program` would be the program we defined in *Problem 3a*. \n",
    "\n",
    "Running `lprun` will bring up a diagnostic window describing our program. "
   ]
  },
  {
   "cell_type": "code",
   "execution_count": 50,
   "metadata": {},
   "outputs": [
    {
     "name": "stdout",
     "output_type": "stream",
     "text": [
      "170 ms ± 2.17 ms per loop (mean ± std. dev. of 7 runs, 1 loop each)\n"
     ]
    }
   ],
   "source": [
    "%timeit run_cavity()"
   ]
  },
  {
   "cell_type": "code",
   "execution_count": 51,
   "metadata": {},
   "outputs": [
    {
     "name": "stdout",
     "output_type": "stream",
     "text": [
      "The line_profiler extension is already loaded. To reload it, use:\n",
      "  %reload_ext line_profiler\n"
     ]
    }
   ],
   "source": [
    "%load_ext line_profiler"
   ]
  },
  {
   "cell_type": "code",
   "execution_count": 52,
   "metadata": {},
   "outputs": [],
   "source": [
    "%lprun -f cavity_flow run_cavity() "
   ]
  },
  {
   "cell_type": "markdown",
   "metadata": {},
   "source": [
    "**Problem 3e** Analysis `lprun` window to identify the part of the program using the largest `% Time`. Guidance on interpreting `line_profile` diagnostics can be found [here](https://github.com/pyutils/line_profiler). Hint, it should be taking about 70% of total runtime. "
   ]
  },
  {
   "cell_type": "code",
   "execution_count": 46,
   "metadata": {},
   "outputs": [],
   "source": [
    "# LINE 33 TOOK THE LONGEST TIME complete"
   ]
  },
  {
   "cell_type": "markdown",
   "metadata": {},
   "source": [
    "**Problem 3f** Speed up the slowest part of the program using Numba:"
   ]
  },
  {
   "cell_type": "code",
   "execution_count": 53,
   "metadata": {},
   "outputs": [],
   "source": [
    "@njit\n",
    "def pressure_poisson(p, b, l2_target):\n",
    "    I, J = b.shape\n",
    "\n",
    "    iter_diff = l2_target + 1\n",
    "\n",
    "    n = 0\n",
    "    while iter_diff > l2_target and n <= 500:\n",
    "        pn = p.copy()\n",
    "        for i in range(1, I - 1):\n",
    "            for j in range(1, J - 1):\n",
    "                p[i, j] = (.25 * (pn[i, j + 1] +\n",
    "                                  pn[i, j - 1] +\n",
    "                                  pn[i + 1, j] +\n",
    "                                  pn[i - 1, j]) -\n",
    "                                  b[i, j])\n",
    "\n",
    "        for i in range(I):\n",
    "            p[i, 0] = p[i, 1]\n",
    "            p[i, -1] = 0\n",
    "\n",
    "        for j in range(J):\n",
    "            p[0, j] = p[1, j]\n",
    "            p[-1, j] = p[-2, j]\n",
    "\n",
    "        if n % 10 == 0:\n",
    "            iter_diff = np.sqrt(np.sum((p - pn)**2)/np.sum(pn**2))\n",
    "\n",
    "        n += 1\n",
    "\n",
    "    return p"
   ]
  },
  {
   "cell_type": "code",
   "execution_count": 54,
   "metadata": {},
   "outputs": [
    {
     "name": "stdout",
     "output_type": "stream",
     "text": [
      "156 ms ± 2.43 ms per loop (mean ± std. dev. of 7 runs, 1 loop each)\n"
     ]
    }
   ],
   "source": [
    "%timeit run_cavity()"
   ]
  },
  {
   "cell_type": "code",
   "execution_count": 55,
   "metadata": {},
   "outputs": [
    {
     "name": "stdout",
     "output_type": "stream",
     "text": [
      "The line_profiler extension is already loaded. To reload it, use:\n",
      "  %reload_ext line_profiler\n"
     ]
    }
   ],
   "source": [
    "%load_ext line_profiler"
   ]
  },
  {
   "cell_type": "code",
   "execution_count": 56,
   "metadata": {},
   "outputs": [],
   "source": [
    "%lprun -f cavity_flow run_cavity() "
   ]
  },
  {
   "cell_type": "markdown",
   "metadata": {},
   "source": [
    "**Problem 3g** Call your program `run_cavity` with u,v,p array named differently to distinguish them from the unpotimized values. \n",
    "\n",
    "Note: Calling the program after redifining the slowest routine will replace the unoptimized but not if cells are executed out of order."
   ]
  },
  {
   "cell_type": "code",
   "execution_count": 57,
   "metadata": {},
   "outputs": [],
   "source": [
    "u_numba, v_numba, p_numba = run_cavity() # complete"
   ]
  },
  {
   "cell_type": "markdown",
   "metadata": {},
   "source": [
    "To ensure that our solution is equivalent to the unoptimized version (it should be). We can use the numpy all close function and compare `p` to `p_numba`, `u` to `u_numba` etc. Numpy all close is described [here](https://numpy.org/doc/stable/reference/generated/numpy.allclose.html)."
   ]
  },
  {
   "cell_type": "code",
   "execution_count": 59,
   "metadata": {},
   "outputs": [
    {
     "name": "stdout",
     "output_type": "stream",
     "text": [
      "True\n",
      "True\n",
      "True\n"
     ]
    }
   ],
   "source": [
    "print(np.allclose(cf_u,u_numba)) # complete\n",
    "print(np.allclose(cf_v,v_numba)) # complete\n",
    "print(np.allclose(cf_p,p_numba)) # complete"
   ]
  },
  {
   "cell_type": "markdown",
   "metadata": {},
   "source": [
    "And just to be sure sure, plot the new data using `quiver_plot` again.."
   ]
  },
  {
   "cell_type": "code",
   "execution_count": 60,
   "metadata": {
    "scrolled": false
   },
   "outputs": [
    {
     "data": {
      "image/png": "[encoded data removed]",
      "text/plain": [
       "<Figure size 1100x700 with 2 Axes>"
      ]
     },
     "metadata": {
      "needs_background": "light"
     },
     "output_type": "display_data"
    }
   ],
   "source": [
    "quiver_plot(u_numba, v_numba, p_numba, nx=41) # complete # complete"
   ]
  },
  {
   "cell_type": "markdown",
   "metadata": {},
   "source": [
    "Finally, run our line_profile tool to see if we observed a speedup. \n",
    "\n",
    "Hint: we should!\n",
    "    \n",
    "Question: can you idenity any other regions that could be straightforwardly improved using Numba?"
   ]
  },
  {
   "cell_type": "code",
   "execution_count": 62,
   "metadata": {},
   "outputs": [
    {
     "name": "stdout",
     "output_type": "stream",
     "text": [
      "154 ms ± 422 µs per loop (mean ± std. dev. of 7 runs, 10 loops each)\n"
     ]
    }
   ],
   "source": [
    "%timeit run_cavity()"
   ]
  },
  {
   "cell_type": "code",
   "execution_count": 63,
   "metadata": {},
   "outputs": [
    {
     "name": "stdout",
     "output_type": "stream",
     "text": [
      "The line_profiler extension is already loaded. To reload it, use:\n",
      "  %reload_ext line_profiler\n"
     ]
    }
   ],
   "source": [
    "%load_ext line_profiler"
   ]
  },
  {
   "cell_type": "code",
   "execution_count": 64,
   "metadata": {},
   "outputs": [],
   "source": [
    "%lprun -f cavity_flow run_cavity() "
   ]
  },
  {
   "cell_type": "markdown",
   "metadata": {},
   "source": [
    "## Problem 4) Creating custom Numpy universal functions\n",
    "\n",
    "*Numba’s vectorize allows Python functions taking scalar input arguments to be used as NumPy ufuncs. Creating a traditional NumPy ufunc is not not the most straightforward process and involves writing some C code. Numba makes this easy. Using the `vectorize()` decorator, Numba can compile a pure Python function into a ufunc that operates over NumPy arrays as fast as traditional ufuncs written in C.*\n",
    "\n",
    "Documentation can be found [here](http://numba.pydata.org/numba-doc/0.17.0/user/vectorize.html#the-guvectorize-decorator)."
   ]
  },
  {
   "cell_type": "markdown",
   "metadata": {},
   "source": [
    "**Problem 4a** Create arrays `x` and `y` and of dimensions 1000 by 1000 filled with random numbers."
   ]
  },
  {
   "cell_type": "code",
   "execution_count": 70,
   "metadata": {},
   "outputs": [
    {
     "name": "stdout",
     "output_type": "stream",
     "text": [
      "[[66  5 36 ... 32 20 75]\n",
      " [50 25 66 ... 22 87 30]\n",
      " [59 16 63 ... 69 31  4]\n",
      " ...\n",
      " [33 83 95 ... 29 54 61]\n",
      " [60 75 25 ...  4  0 25]\n",
      " [72 38 14 ... 77 50 69]]\n"
     ]
    }
   ],
   "source": [
    "x = np.random.randint(100, size=(1000,1000)) # complete\n",
    "y = np.random.randint(100, size=(1000,1000)) # complete\n",
    "print(x)"
   ]
  },
  {
   "cell_type": "code",
   "execution_count": 71,
   "metadata": {},
   "outputs": [],
   "source": [
    "def do_trig(x, y):\n",
    "    z = np.sin(x**2) + np.cos(y)\n",
    "    return z"
   ]
  },
  {
   "cell_type": "markdown",
   "metadata": {},
   "source": [
    "**Problem 4b** Pass the created arrays to `do_trig` and time the results using `timeit`."
   ]
  },
  {
   "cell_type": "code",
   "execution_count": 72,
   "metadata": {},
   "outputs": [
    {
     "name": "stdout",
     "output_type": "stream",
     "text": [
      "30.5 ms ± 459 µs per loop (mean ± std. dev. of 7 runs, 10 loops each)\n"
     ]
    }
   ],
   "source": [
    "original_time = %timeit do_trig(x,y)# complete"
   ]
  },
  {
   "cell_type": "markdown",
   "metadata": {},
   "source": [
    "**Problem 4c** Use the `jit` decorator to see if we can speed up the `do_trig` routine. Time the results."
   ]
  },
  {
   "cell_type": "code",
   "execution_count": 75,
   "metadata": {},
   "outputs": [],
   "source": [
    "@njit\n",
    "def do_trig_jit(x, y):\n",
    "    z = np.sin(x**2) + np.cos(y)\n",
    "    return z"
   ]
  },
  {
   "cell_type": "code",
   "execution_count": 76,
   "metadata": {},
   "outputs": [
    {
     "name": "stdout",
     "output_type": "stream",
     "text": [
      "35.3 ms ± 255 µs per loop (mean ± std. dev. of 7 runs, 10 loops each)\n"
     ]
    }
   ],
   "source": [
    "jit_time = %timeit do_trig_jit(x,y)# complete # complete"
   ]
  },
  {
   "cell_type": "markdown",
   "metadata": {},
   "source": [
    "**Question**: Is the `jit` version faster? Discuss. Do we expect it to? Recall where `Numba` excels. "
   ]
  },
  {
   "cell_type": "markdown",
   "metadata": {},
   "source": [
    "**Problem 4d** Use the `vectorize` decorator to see if we can speed up the `do_trig` routine. Also specifically target `parallel` optimization here. More details on targets can be found [here](https://numba.pydata.org/numba-doc/latest/reference/jit-compilation.html?highlight=vectorize%20target#numba.vectorize).\n",
    "\n",
    "Hint: you will need to know the data types of the input arrays `x` and `y`. "
   ]
  },
  {
   "cell_type": "code",
   "execution_count": 84,
   "metadata": {},
   "outputs": [],
   "source": [
    "from numba import vectorize, int64 # complete"
   ]
  },
  {
   "cell_type": "code",
   "execution_count": 85,
   "metadata": {},
   "outputs": [],
   "source": [
    "@vectorize([int64(int64, int64)])\n",
    "def do_trig_vec(x, y):\n",
    "    z = np.sin(x**2) + np.cos(y)\n",
    "    return z"
   ]
  },
  {
   "cell_type": "markdown",
   "metadata": {},
   "source": [
    "**Problem 4e** Once your new function is created. We want to perform a scaling study to determine how well it performs to the previous versions. First, use `Numba`'s `set_num_threads` and set the number to 1. Time the result and compare. "
   ]
  },
  {
   "cell_type": "code",
   "execution_count": 88,
   "metadata": {},
   "outputs": [
    {
     "data": {
      "text/plain": [
       "array([[ 0,  0,  0, ...,  0, -1,  1],\n",
       "       [ 0,  0,  0, ...,  0,  0,  0],\n",
       "       [ 0, -1, -1, ..., -1, -1,  0],\n",
       "       ...,\n",
       "       [ 1,  0,  0, ...,  0,  0,  0],\n",
       "       [ 0,  1,  0, ...,  0,  0,  0],\n",
       "       [ 1, -1,  1, ..., -1, -1, -1]])"
      ]
     },
     "execution_count": 88,
     "metadata": {},
     "output_type": "execute_result"
    }
   ],
   "source": [
    "from numba import set_num_threads # complete\n",
    "set_num_threads(1)"
   ]
  },
  {
   "cell_type": "code",
   "execution_count": 89,
   "metadata": {},
   "outputs": [
    {
     "name": "stdout",
     "output_type": "stream",
     "text": [
      "36 ms ± 457 µs per loop (mean ± std. dev. of 7 runs, 10 loops each)\n"
     ]
    }
   ],
   "source": [
    "%timeit do_trig_vec(x,y)"
   ]
  },
  {
   "cell_type": "markdown",
   "metadata": {},
   "source": [
    "**Problem 4f** \n",
    "\n",
    "**Question:** Discuss your results. Is it slower or faster? \n",
    "\n",
    "**Answer:** With one thread, it should be slower. We are currently not leveraging the multiple threads on our CPU and actually just spending cycles creating and destroying threads in our routine. "
   ]
  },
  {
   "cell_type": "markdown",
   "metadata": {},
   "source": [
    "**Problem 4g** Now, run the vectorized and parallel version of our function for `1,2,4` (and if your machine supports it `8` threads). Record the timing results for each and plot the number of threads vs. average completion time produced by `timeit`.\n",
    "\n",
    "*Note:  Typically OpenMP threads are usually limited to  2 times or times the number of cores of the CPU on a single CPU machine.* "
   ]
  },
  {
   "cell_type": "code",
   "execution_count": 90,
   "metadata": {},
   "outputs": [
    {
     "name": "stdout",
     "output_type": "stream",
     "text": [
      "36 ms ± 175 µs per loop (mean ± std. dev. of 7 runs, 10 loops each)\n"
     ]
    }
   ],
   "source": [
    "set_num_threads(2) # complete\n",
    "%timeit do_trig_vec(x,y) # complete"
   ]
  },
  {
   "cell_type": "code",
   "execution_count": 91,
   "metadata": {},
   "outputs": [
    {
     "name": "stdout",
     "output_type": "stream",
     "text": [
      "35.8 ms ± 208 µs per loop (mean ± std. dev. of 7 runs, 10 loops each)\n"
     ]
    }
   ],
   "source": [
    "set_num_threads(4) # complete\n",
    "%timeit do_trig_vec(x,y) # complete"
   ]
  },
  {
   "cell_type": "code",
   "execution_count": 92,
   "metadata": {},
   "outputs": [
    {
     "name": "stdout",
     "output_type": "stream",
     "text": [
      "35.5 ms ± 38.2 µs per loop (mean ± std. dev. of 7 runs, 10 loops each)\n"
     ]
    }
   ],
   "source": [
    "set_num_threads(8) # complete\n",
    "%timeit do_trig_vec(x,y) # complete"
   ]
  },
  {
   "cell_type": "code",
   "execution_count": 93,
   "metadata": {},
   "outputs": [],
   "source": [
    "threads = np.array([1,2,4,8])\n",
    "                     # complete])\n",
    "\n",
    "timing = np.array([36, 36, 35.8, 35.5])"
   ]
  },
  {
   "cell_type": "code",
   "execution_count": null,
   "metadata": {},
   "outputs": [],
   "source": [
    "#%matplotlib inline"
   ]
  },
  {
   "cell_type": "code",
   "execution_count": 94,
   "metadata": {},
   "outputs": [
    {
     "data": {
      "image/png": "[encoded data removed]",
      "text/plain": [
       "<Figure size 432x288 with 1 Axes>"
      ]
     },
     "metadata": {
      "needs_background": "light"
     },
     "output_type": "display_data"
    }
   ],
   "source": [
    "plt.scatter(threads, timing) # complete\n",
    "plt.xlabel('Number of OMP Threads')\n",
    "plt.ylabel('Average completion time')\n",
    "plt.show()"
   ]
  },
  {
   "cell_type": "markdown",
   "metadata": {},
   "source": [
    "**Problem 4h** Lastly, plot the Speedup $$S_{p}= T_{1}/T_{p}$$ where $p$ is the number of threads used in this case."
   ]
  },
  {
   "cell_type": "code",
   "execution_count": 95,
   "metadata": {},
   "outputs": [
    {
     "data": {
      "image/png": "[encoded data removed]",
      "text/plain": [
       "<Figure size 432x288 with 1 Axes>"
      ]
     },
     "metadata": {
      "needs_background": "light"
     },
     "output_type": "display_data"
    }
   ],
   "source": [
    " # complete\n",
    "\n",
    "plt.xlabel('Number of OMP Threads')\n",
    "plt.ylabel('Speedup')\n",
    "plt.show()"
   ]
  },
  {
   "cell_type": "markdown",
   "metadata": {},
   "source": [
    "**Question:** Ideal scaling would be a straight line: \n",
    "\n",
    "$$S_{p}=T_{1}/p$$\n",
    "\n",
    "How does your results compare? Do you think this could change with problem size?\n",
    "\n",
    "**Answer:** Larger arrays might benefit more but theres a limit!"
   ]
  },
  {
   "cell_type": "markdown",
   "metadata": {},
   "source": [
    "## Problem 5) Revisiting The Cavity Problem (Optional)"
   ]
  },
  {
   "cell_type": "markdown",
   "metadata": {},
   "source": [
    "**Problem 5a** Rewrite the two most expensive parts of the Cavity problem and compare the speedup to the original non-Numba routine runtime. \n",
    "\n",
    "Hint: You may want to utilize the `@vectorize` decorator and other flags we have utilized so far in this lesson!"
   ]
  },
  {
   "cell_type": "code",
   "execution_count": null,
   "metadata": {},
   "outputs": [],
   "source": []
  },
  {
   "cell_type": "code",
   "execution_count": null,
   "metadata": {},
   "outputs": [],
   "source": []
  }
 ],
 "metadata": {
  "kernelspec": {
   "display_name": "Python 3 (ipykernel)",
   "language": "python",
   "name": "python3"
  },
  "language_info": {
   "codemirror_mode": {
    "name": "ipython",
    "version": 3
   },
   "file_extension": ".py",
   "mimetype": "text/x-python",
   "name": "python",
   "nbconvert_exporter": "python",
   "pygments_lexer": "ipython3",
   "version": "3.10.5"
  }
 },
 "nbformat": 4,
 "nbformat_minor": 2
}
