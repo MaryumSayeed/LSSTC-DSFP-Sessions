{
 "cells": [
  {
   "cell_type": "markdown",
   "id": "3e40f248",
   "metadata": {},
   "source": [
    "# Experimental design\n",
    "\n",
    "_Alex I. Malz (LINCC@CMU)_\n",
    "\n",
    "_LSSTC DSFP #16_\n",
    "\n",
    "I initially started a version of this problem set based on a data challenge I prepared for [Quarks to Cosmos with AI](https://events.mcs.cmu.edu/qtc2021/), which provides all the pieces you need to run an interesting experiment with photo-$z$ posterior PDF estimation models by a variety of metrics.\n",
    "However, that seems overly specific for the DSFP -- the goal is for you to learn to think adversarially in your own research, not in mine! -- so this one is more generalizable."
   ]
  },
  {
   "cell_type": "markdown",
   "id": "3cca8b94",
   "metadata": {},
   "source": [
    "## Objective\n",
    "\n",
    "The goal of this problem set is for you to learn to identify and circumvent flaws in an experiment.\n",
    "To us as astronomers, an experiment may constitute the way we compare analysis methods or models or the impact of systematic imperfections in data or priors.\n",
    "The way we decide whether a procedure we came up with is sufficient for a task or better than some alternative is conditioned on our choice of metric."
   ]
  },
  {
   "cell_type": "markdown",
   "id": "f828185a",
   "metadata": {},
   "source": [
    "## Problem 1\n",
    "\n",
    "Here are four sets of two-dimensional data.\n",
    "You can imagine that they're the predictions of four models for estimating the relationship between variables $x$ and $y$ if you like (e.g. galaxy cluster concentration as a function of dark matter halo mass), or four observations that may or may not have come from a common process (e.g. folded time-series of variable stars).\n",
    "In this problem, you don't know the true values and can't conduct a controlled experiment, so we'll try to compare them using summary statistics we might actually apply to comparing the results of several estimation methods."
   ]
  },
  {
   "cell_type": "code",
   "execution_count": 1,
   "id": "54e7e8b7",
   "metadata": {},
   "outputs": [],
   "source": [
    "x1 = [10, 8, 13, 9, 11, 14, 6, 4, 12, 7, 5]\n",
    "y1 = [8.04, 6.95, 7.58, 8.81, 8.33, 9.96, 7.24, 4.26, 10.84, 4.82, 5.68]\n",
    "\n",
    "x2 = [10, 8, 13, 9, 11, 14, 6, 4, 12, 7, 5]\n",
    "y2 = [9.14, 8.14, 8.74, 8.77, 9.26, 8.10, 6.13, 3.10, 9.13, 7.26, 4.74]\n",
    "\n",
    "x3 = [10, 8, 13, 9, 11, 14, 6, 4, 12, 7, 5]\n",
    "y3 = [7.46, 6.77, 12.74, 7.11, 7.81, 8.84, 6.08, 5.39, 8.15, 6.42, 5.73]\n",
    "\n",
    "x4 = [8, 8, 8, 8, 8, 8, 8, 19, 8, 8, 8]\n",
    "y4 = [6.58, 5.76, 7.71, 8.84, 8.47, 7.04, 5.25, 12.50, 5.56, 7.91, 6.89]"
   ]
  },
  {
   "cell_type": "markdown",
   "id": "94c79272",
   "metadata": {},
   "source": [
    "### 1a\n",
    "\n",
    "The simplest summary statistic is the first moment, a.k.a. the mean, $\\mu_{z} = \\frac{1}{N}\\sum_{i=1}^{N}z_{n}$.\n",
    "Write a function to compute the mean of a one-dimensional list.\n",
    "_Hint: Use `scipy.stats.moment()` if you want a shortcut._\n",
    "Compute the mean of $x$ and the mean of $y$ for each data set.\n",
    "Interpret the results."
   ]
  },
  {
   "cell_type": "code",
   "execution_count": 12,
   "id": "755e6ea4",
   "metadata": {},
   "outputs": [
    {
     "name": "stdout",
     "output_type": "stream",
     "text": [
      "mean 9.0 9.0\n",
      "mean 7.500909090909093 7.500909090909093\n",
      "mean 9.0 9.0\n",
      "mean 7.50090909090909 7.50090909090909\n",
      "mean 9.0 9.0\n",
      "mean 7.5 7.5\n",
      "mean 9.0 9.0\n",
      "mean 7.500909090909091 7.500909090909091\n"
     ]
    }
   ],
   "source": [
    "import numpy as np\n",
    "def getmean(data):\n",
    "    '''\n",
    "    @input: list\n",
    "        x\n",
    "    @output: float\n",
    "        mean of a list\n",
    "    '''\n",
    "    return np.nanmean(data)\n",
    "\n",
    "for alist in [x1,y1,x2,y2,x3,y3,x4,y4]:\n",
    "    print('mean',getmean(alist))"
   ]
  },
  {
   "cell_type": "markdown",
   "id": "618bdaba",
   "metadata": {},
   "source": [
    "### 1b\n",
    "\n",
    "The next simplest summary statistic is the second moment, a.k.a. the variance, $\\sigma_{z}^{2} = \\frac{1}{N-1}\\sum_{i=1}^{N}(z_{n} - \\mu_{z})^{2}$.\n",
    "Write a function to compute the variance of a one-dimensional list.\n",
    "_Hint: Use `scipy.stats.moment()` if you want a shortcut._\n",
    "Compute the variance of $x$ and the variance of $y$ for each data set.\n",
    "Interpret the results."
   ]
  },
  {
   "cell_type": "code",
   "execution_count": null,
   "id": "c2ba76c0",
   "metadata": {},
   "outputs": [],
   "source": [
    "np"
   ]
  },
  {
   "cell_type": "code",
   "execution_count": 13,
   "id": "90db8e3d",
   "metadata": {},
   "outputs": [
    {
     "name": "stdout",
     "output_type": "stream",
     "text": [
      "var 10.0 10.0\n",
      "var 3.7520628099173554 3.7520628099173554\n",
      "var 10.0 10.0\n",
      "var 3.752390082644628 3.752390082644628\n",
      "var 10.0 10.0\n",
      "var 3.747836363636364 3.747836363636364\n",
      "var 10.0 10.0\n",
      "var 3.7484082644628103 3.7484082644628103\n"
     ]
    }
   ],
   "source": [
    "def getvar(data):\n",
    "    '''\n",
    "    @input: list\n",
    "        x\n",
    "    @output: float\n",
    "        variance of a list\n",
    "    '''\n",
    "    return np.var(data)\n",
    "\n",
    "for alist in [x1,y1,x2,y2,x3,y3,x4,y4]:\n",
    "    print('var',getvar(alist),np.var(alist))"
   ]
  },
  {
   "cell_type": "markdown",
   "id": "67f16863",
   "metadata": {},
   "source": [
    "### 1c\n",
    "\n",
    "Judging by the first two moments, we need something a little more sophisticated to quantitatively distinguish these data sets.\n",
    "Let's make use of both $x$ and $y$ together.\n",
    "Pearson's correlation coefficient $r = \\frac{\\sum_{i=1}^{N}(x_{i}-\\mu_{x})(y_{i}-\\mu_{y})}{\\sqrt{\\sum_{i=1}^{N}(x_{i}-\\mu_{x})^{2}\\sum_{i=1}^{N}(y_{i}-\\mu_{y})^{2}}}$ is a measure of the degree to which variables $x$ and $y$ are correlated with one another.\n",
    "Write a function to compute the correlation coefficient of a two-dimensional data set.\n",
    "_Hint: Use `scipy.stats.pearsonr()` if you want a shortcut._\n",
    "Compute the $r$ for each data set.\n",
    "Interpret the results."
   ]
  },
  {
   "cell_type": "code",
   "execution_count": 15,
   "id": "c1e7b78f",
   "metadata": {},
   "outputs": [
    {
     "name": "stdout",
     "output_type": "stream",
     "text": [
      "(0.8164205163448396, 0.002169628873078809)\n",
      "(0.8162365060002426, 0.0021788162369108083)\n",
      "(0.816286739489598, 0.0021763052792280364)\n",
      "(0.8165214368885029, 0.002164602347197218)\n"
     ]
    }
   ],
   "source": [
    "from scipy import stats\n",
    "\n",
    "print(stats.pearsonr(x1,y1))\n",
    "print(stats.pearsonr(x2,y2))\n",
    "print(stats.pearsonr(x3,y3))\n",
    "print(stats.pearsonr(x4,y4))"
   ]
  },
  {
   "cell_type": "markdown",
   "id": "46ac13aa",
   "metadata": {},
   "source": [
    "### 1d\n",
    "\n",
    "They sure do seem to all be the same, yet the numbers in the lists are different!\n",
    "Let's try fitting a simple model to them.\n",
    "Recycle your code from earlier in the week to fit a line to data and apply it to these four data sets.\n",
    "_If you didn't get that far in a notebook, you can use `scipy.stats.linregress`._\n",
    "Interpret the resulting slope and intercept values _(and coefficient of determination, p-value, and standard error, if you used the canned fitting function._"
   ]
  },
  {
   "cell_type": "code",
   "execution_count": 30,
   "id": "f3df1d81",
   "metadata": {},
   "outputs": [
    {
     "name": "stdout",
     "output_type": "stream",
     "text": [
      "0.5000909090909091 3.0000909090909103\n",
      "0.5 3.00090909090909\n",
      "0.4997272727272727 3.0024545454545457\n",
      "0.4999090909090909 3.0017272727272726\n",
      "<class 'numpy.float64'>\n"
     ]
    }
   ],
   "source": [
    "\n",
    "s1, b1, _,_,_= stats.linregress(x1, y1)\n",
    "s2, b2, _,_,_= stats.linregress(x2, y2)\n",
    "s3, b3, _,_,_= stats.linregress(x3, y3)\n",
    "s4, b4, _,_,_= stats.linregress(x4, y4)\n",
    "print(s1,b1)\n",
    "print(s2,b2)\n",
    "print(s3,b3)\n",
    "print(s4,b4)\n",
    "print(type(s1))"
   ]
  },
  {
   "cell_type": "markdown",
   "id": "b1c53039",
   "metadata": {},
   "source": [
    "### 1e\n",
    "\n",
    "Finally, plot the four data sets, along with the line.\n",
    "Interpret the results."
   ]
  },
  {
   "cell_type": "code",
   "execution_count": 56,
   "id": "9da2c3a2",
   "metadata": {},
   "outputs": [
    {
     "data": {
      "image/png": "[encoded data removed]",
      "text/plain": [
       "<Figure size 432x288 with 4 Axes>"
      ]
     },
     "metadata": {
      "needs_background": "light"
     },
     "output_type": "display_data"
    }
   ],
   "source": [
    "import matplotlib.pyplot as plt\n",
    "from astropy.stats import mad_std\n",
    "\n",
    "slopes=[s1,s2,s3,s4]\n",
    "inters=[b1,b2,b3,b4]\n",
    "xs=[x1,x2,x3,x4]\n",
    "ys=[y1,y2,y3,y4]\n",
    "xs=[np.array(i) for i in xs]\n",
    "\n",
    "\n",
    "for i in range(4):\n",
    "    plt.subplot(2,2,i+1)\n",
    "    plt.scatter(xs[i],ys[i])\n",
    "    plt.plot(xs[i],xs[i]*slopes[i]+inters[i])\n",
    "    plt.title('dataset: %s'%(i+1))\n",
    "plt.tight_layout()"
   ]
  },
  {
   "cell_type": "markdown",
   "id": "20a34b8d",
   "metadata": {},
   "source": [
    "### 1f\n",
    "\n",
    "If you had to distinguish these data sets quantitatively, what metric(s) would you use?\n",
    "Implement at least one and show that the data sets don't have the same value(s) by your metric(s).\n",
    "Or, show that other metrics you can think of also can't distinguish them.\n",
    "\n",
    "_Hint: Start by thinking of a way to distinguish just one from the others._\n",
    "_As a challenge problem, then come up with another set of $(x, y)$ that will be degenerate by another metric._"
   ]
  },
  {
   "cell_type": "code",
   "execution_count": 57,
   "id": "75a3c827",
   "metadata": {},
   "outputs": [
    {
     "name": "stdout",
     "output_type": "stream",
     "text": [
      "4.447806655516806 1.8236007287618912\n",
      "4.447806655516806 1.4677761963205462\n",
      "4.447806655516806 1.5270802850607705\n",
      "0.0 1.897730839687171\n"
     ]
    }
   ],
   "source": [
    "\n",
    "for i in range(4):\n",
    "    yfit =xs[i]*slopes[i]+inters[i]\n",
    "    res  =(ys[i]-yfit)/ys[i]\n",
    "#     print(np.std(ys[i]),np.std(xs[i]))\n",
    "    print(mad_std(xs[i]),mad_std(ys[i]))"
   ]
  },
  {
   "cell_type": "markdown",
   "id": "0179bcab",
   "metadata": {},
   "source": [
    "Highlight for spoiler and credit.\n",
    "\n",
    "<font color='black'>\n",
    "By the way, Problem 1 is known as Anscombe's quartet and was devised to show statisticians the value of visual inspection over total reliance on quantitative metrics.\n",
    "The solutions can be found in [this nifty blog post](https://datasciencesphere.com/visualization/visualizing-anscombe-quartet-using-python/).\n",
    "</font>"
   ]
  },
  {
   "cell_type": "markdown",
   "id": "e9089752",
   "metadata": {},
   "source": [
    "## Problem 2\n",
    "\n",
    "Let's try a more complicated version of this.\n",
    "Download some other data sets [here](https://www.autodesk.com/content/dam/autodesk/www/autodesk-reasearch/Publications/pdf/SameStatsCode.zip).\n",
    "Let's inspect them first."
   ]
  },
  {
   "cell_type": "code",
   "execution_count": 59,
   "id": "1123ab15",
   "metadata": {},
   "outputs": [
    {
     "name": "stdout",
     "output_type": "stream",
     "text": [
      "Index(['dataset', 'x', 'y'], dtype='object')\n",
      "13\n"
     ]
    }
   ],
   "source": [
    "import pandas as pd\n",
    "\n",
    "data = pd.read_csv('SameStatsCode/generated_datasets/DatasaurusDozen.tsv', sep='\\t')\n",
    "print(data.columns)\n",
    "\n",
    "print(len(data['dataset'].unique()))"
   ]
  },
  {
   "cell_type": "markdown",
   "id": "84bfc461",
   "metadata": {},
   "source": [
    "### 2a\n",
    "\n",
    "We can separate them out and calculate some summary statistics:\n",
    "- How many points are in each?\n",
    "- What is the mean?\n",
    "- Variance?\n",
    "- Standard deviation?\n",
    "- Correlation coefficient?\n",
    "- Covariance $\\sum_{i=1}^{N}(x_{i}-\\mu_{x})(y_{i}-\\mu_{y})$?"
   ]
  },
  {
   "cell_type": "code",
   "execution_count": 80,
   "id": "d156ff38",
   "metadata": {},
   "outputs": [
    {
     "data": {
      "text/html": [
       "<div>\n",
       "<style scoped>\n",
       "    .dataframe tbody tr th:only-of-type {\n",
       "        vertical-align: middle;\n",
       "    }\n",
       "\n",
       "    .dataframe tbody tr th {\n",
       "        vertical-align: top;\n",
       "    }\n",
       "\n",
       "    .dataframe thead th {\n",
       "        text-align: right;\n",
       "    }\n",
       "</style>\n",
       "<table border=\"1\" class=\"dataframe\">\n",
       "  <thead>\n",
       "    <tr style=\"text-align: right;\">\n",
       "      <th></th>\n",
       "      <th>dataset</th>\n",
       "      <th>x</th>\n",
       "      <th>y</th>\n",
       "    </tr>\n",
       "  </thead>\n",
       "  <tbody>\n",
       "    <tr>\n",
       "      <th>0</th>\n",
       "      <td>dino</td>\n",
       "      <td>55.3846</td>\n",
       "      <td>97.1795</td>\n",
       "    </tr>\n",
       "    <tr>\n",
       "      <th>1</th>\n",
       "      <td>dino</td>\n",
       "      <td>51.5385</td>\n",
       "      <td>96.0256</td>\n",
       "    </tr>\n",
       "    <tr>\n",
       "      <th>2</th>\n",
       "      <td>dino</td>\n",
       "      <td>46.1538</td>\n",
       "      <td>94.4872</td>\n",
       "    </tr>\n",
       "  </tbody>\n",
       "</table>\n",
       "</div>"
      ],
      "text/plain": [
       "  dataset        x        y\n",
       "0    dino  55.3846  97.1795\n",
       "1    dino  51.5385  96.0256\n",
       "2    dino  46.1538  94.4872"
      ]
     },
     "execution_count": 80,
     "metadata": {},
     "output_type": "execute_result"
    }
   ],
   "source": [
    "data.head(3)"
   ]
  },
  {
   "cell_type": "code",
   "execution_count": 62,
   "id": "aaa71ac2",
   "metadata": {
    "scrolled": true
   },
   "outputs": [
    {
     "name": "stdout",
     "output_type": "stream",
     "text": [
      "               x                                       y             \\\n",
      "           count       mean         var        std count       mean   \n",
      "dataset                                                               \n",
      "away         142  54.266100  281.227029  16.769825   142  47.834721   \n",
      "bullseye     142  54.268730  281.207393  16.769239   142  47.830823   \n",
      "circle       142  54.267320  280.898024  16.760013   142  47.837717   \n",
      "dino         142  54.263273  281.069988  16.765142   142  47.832253   \n",
      "dots         142  54.260303  281.156953  16.767735   142  47.839829   \n",
      "h_lines      142  54.261442  281.095333  16.765898   142  47.830252   \n",
      "high_lines   142  54.268805  281.122364  16.766704   142  47.835450   \n",
      "slant_down   142  54.267849  281.124206  16.766759   142  47.835896   \n",
      "slant_up     142  54.265882  281.194420  16.768853   142  47.831496   \n",
      "star         142  54.267341  281.197993  16.768959   142  47.839545   \n",
      "v_lines      142  54.269927  281.231512  16.769959   142  47.836988   \n",
      "wide_lines   142  54.266916  281.232887  16.770000   142  47.831602   \n",
      "x_shape      142  54.260150  281.231481  16.769958   142  47.839717   \n",
      "\n",
      "                                   \n",
      "                   var        std  \n",
      "dataset                            \n",
      "away        725.749775  26.939743  \n",
      "bullseye    725.533372  26.935727  \n",
      "circle      725.226844  26.930036  \n",
      "dino        725.515961  26.935403  \n",
      "dots        725.235215  26.930192  \n",
      "h_lines     725.756931  26.939876  \n",
      "high_lines  725.763490  26.939998  \n",
      "slant_down  725.553749  26.936105  \n",
      "slant_up    725.688605  26.938608  \n",
      "star        725.239695  26.930275  \n",
      "v_lines     725.638809  26.937684  \n",
      "wide_lines  725.650560  26.937902  \n",
      "x_shape     725.224991  26.930002  \n",
      "dataset      \n",
      "away        x   -0.064128\n",
      "bullseye    x   -0.068586\n",
      "circle      x   -0.068343\n",
      "dino        x   -0.064472\n",
      "dots        x   -0.060341\n",
      "h_lines     x   -0.061715\n",
      "high_lines  x   -0.068504\n",
      "slant_down  x   -0.068980\n",
      "slant_up    x   -0.068609\n",
      "star        x   -0.062961\n",
      "v_lines     x   -0.069446\n",
      "wide_lines  x   -0.066575\n",
      "x_shape     x   -0.065583\n",
      "Name: y, dtype: float64\n",
      "                       x           y\n",
      "dataset                             \n",
      "away       x  281.227029  -28.971572\n",
      "           y  -28.971572  725.749775\n",
      "bullseye   x  281.207393  -30.979902\n",
      "           y  -30.979902  725.533372\n",
      "circle     x  280.898024  -30.846620\n",
      "           y  -30.846620  725.226844\n",
      "dino       x  281.069988  -29.113933\n",
      "           y  -29.113933  725.515961\n",
      "dots       x  281.156953  -27.247681\n",
      "           y  -27.247681  725.235215\n",
      "h_lines    x  281.095333  -27.874816\n",
      "           y  -27.874816  725.756931\n",
      "high_lines x  281.122364  -30.943012\n",
      "           y  -30.943012  725.763490\n",
      "slant_down x  281.124206  -31.153399\n",
      "           y  -31.153399  725.553749\n",
      "slant_up   x  281.194420  -30.992806\n",
      "           y  -30.992806  725.688605\n",
      "star       x  281.197993  -28.432772\n",
      "           y  -28.432772  725.239695\n",
      "v_lines    x  281.231512  -31.371608\n",
      "           y  -31.371608  725.638809\n",
      "wide_lines x  281.232887  -30.075267\n",
      "           y  -30.075267  725.650560\n",
      "x_shape    x  281.231481  -29.618418\n",
      "           y  -29.618418  725.224991\n"
     ]
    }
   ],
   "source": [
    "datasets_grouped = data.groupby('dataset')\n",
    "print(datasets_grouped.agg(['count', 'mean', 'var', 'std']))\n",
    "print(data.groupby('dataset')[['x','y']].corr().iloc[0::2,-1])\n",
    "print(data.groupby('dataset').cov())\n"
   ]
  },
  {
   "cell_type": "markdown",
   "id": "a11c7ba5",
   "metadata": {},
   "source": [
    "### 2b\n",
    "\n",
    "Let's try fitting a line again to check the slopes and intercepts."
   ]
  },
  {
   "cell_type": "markdown",
   "id": "3de98bac",
   "metadata": {},
   "source": [
    "### 2c\n",
    "\n",
    "Now try plotting them, including the line."
   ]
  },
  {
   "cell_type": "code",
   "execution_count": 79,
   "id": "a49cbc95",
   "metadata": {},
   "outputs": [
    {
     "data": {
      "image/png": "[encoded data removed]",
      "text/plain": [
       "<Figure size 576x360 with 13 Axes>"
      ]
     },
     "metadata": {
      "needs_background": "light"
     },
     "output_type": "display_data"
    }
   ],
   "source": [
    "plt.figure(figsize=(8,5))\n",
    "for i,d in enumerate(data['dataset'].unique()):\n",
    "    xdata,ydata=data[data.dataset==d].x,data[data.dataset==d].y\n",
    "    m, b, _,_,_= stats.linregress(xdata, ydata)\n",
    "\n",
    "    plt.subplot(3,5,i+1)\n",
    "    plt.scatter(xdata,ydata,s=10)\n",
    "    plt.plot(xdata, m*xdata+b,c='C1')\n",
    "plt.tight_layout()\n",
    "plt.show()"
   ]
  },
  {
   "cell_type": "markdown",
   "id": "6ae6bc38",
   "metadata": {},
   "source": [
    "### 2d\n",
    "\n",
    "Again, implement a metric that can distinguish between them, and then try to think of another data set that will be indistinguishable from one of the data sets by that metric."
   ]
  },
  {
   "cell_type": "code",
   "execution_count": null,
   "id": "4ffa6f02",
   "metadata": {},
   "outputs": [],
   "source": []
  },
  {
   "cell_type": "markdown",
   "id": "3945bd22",
   "metadata": {},
   "source": [
    "Highlight for spoiler and credit.\n",
    "\n",
    "<font color='white'>\n",
    "Problem 2 uses the Datasaurus Dozen, a modern reenvisioning of Anscombe's quartet.\n",
    "The solutions can be found in [yet another nifty blog post](https://datasciencesphere.com/visualization/datasaurus-dozen-visualization-using-python/).\n",
    "</font>"
   ]
  },
  {
   "cell_type": "markdown",
   "id": "490cd77e",
   "metadata": {},
   "source": [
    "## Problem 3\n",
    "\n",
    "Now that you've seen how metrics can be fooled by pathological data, I want you to apply this kind of critical thinking to your research!\n",
    "Talk with your neighbors to take apart a problem you (or they) are working on that involves comparing methods, models, or data.\n",
    "\n",
    "### 3a\n",
    "\n",
    "Articulate the metric(s) being used to make a decision.\n",
    "\n",
    "### 3b\n",
    "\n",
    "Think of a pathological control case that would lead to a counterintuitive conclusion using the given metric(s).\n",
    "\n",
    "### 3c\n",
    "\n",
    "Think about additional metrics that could protect your decision from being \"fooled\" by a test case that doesn't address the goal."
   ]
  },
  {
   "cell_type": "markdown",
   "id": "8a8a1281",
   "metadata": {},
   "source": [
    "## Problem $\\pi$\n",
    "\n",
    "If you don't want to do the open-ended thought experiment about a research problem you or another student is working on, check out the other notebook for this problem session to explore a specific one (surprise, it's photo-$z$s)."
   ]
  },
  {
   "cell_type": "code",
   "execution_count": null,
   "id": "db8b8afb",
   "metadata": {},
   "outputs": [],
   "source": []
  }
 ],
 "metadata": {
  "kernelspec": {
   "display_name": "Python 3",
   "language": "python",
   "name": "python3"
  },
  "language_info": {
   "codemirror_mode": {
    "name": "ipython",
    "version": 3
   },
   "file_extension": ".py",
   "mimetype": "text/x-python",
   "name": "python",
   "nbconvert_exporter": "python",
   "pygments_lexer": "ipython3",
   "version": "3.9.5"
  }
 },
 "nbformat": 4,
 "nbformat_minor": 5
}
