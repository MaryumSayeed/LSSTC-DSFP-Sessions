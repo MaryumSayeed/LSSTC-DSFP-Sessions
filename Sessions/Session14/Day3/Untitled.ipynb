{
 "cells": [
  {
   "cell_type": "code",
   "execution_count": 1,
   "id": "2224a2e1",
   "metadata": {},
   "outputs": [],
   "source": [
    "import numpy as np\n"
   ]
  },
  {
   "cell_type": "code",
   "execution_count": 4,
   "id": "ddb5af7b",
   "metadata": {},
   "outputs": [
    {
     "name": "stdout",
     "output_type": "stream",
     "text": [
      "[[0.02997654 0.62885762 0.52677173]\n",
      " [0.79746143 0.13038322 0.77241267]\n",
      " [0.27747727 0.36276392 0.61212846]]\n"
     ]
    },
    {
     "data": {
      "text/plain": [
       "array([1, 0, 2])"
      ]
     },
     "execution_count": 4,
     "metadata": {},
     "output_type": "execute_result"
    }
   ],
   "source": [
    "d=np.random.rand(3,3)\n",
    "print(d)\n",
    "labels= [0,2,1]\n",
    "pred  = np.argmax(d,axis=1)\n"
   ]
  },
  {
   "cell_type": "code",
   "execution_count": 12,
   "id": "a7111257",
   "metadata": {},
   "outputs": [
    {
     "ename": "ValueError",
     "evalue": "'a' and 'p' must have same size",
     "output_type": "error",
     "traceback": [
      "\u001b[0;31m---------------------------------------------------------------------------\u001b[0m",
      "\u001b[0;31mValueError\u001b[0m                                Traceback (most recent call last)",
      "\u001b[0;32m/var/folders/b9/8phngt794pz7f7rdycf1xddm0000gn/T/ipykernel_21249/2277728359.py\u001b[0m in \u001b[0;36m<module>\u001b[0;34m\u001b[0m\n\u001b[1;32m      2\u001b[0m \u001b[0mnfeatures\u001b[0m\u001b[0;34m=\u001b[0m\u001b[0;36m7\u001b[0m\u001b[0;34m\u001b[0m\u001b[0;34m\u001b[0m\u001b[0m\n\u001b[1;32m      3\u001b[0m \u001b[0;34m\u001b[0m\u001b[0m\n\u001b[0;32m----> 4\u001b[0;31m \u001b[0mnp\u001b[0m\u001b[0;34m.\u001b[0m\u001b[0mrandom\u001b[0m\u001b[0;34m.\u001b[0m\u001b[0mchoice\u001b[0m\u001b[0;34m(\u001b[0m\u001b[0;34m[\u001b[0m\u001b[0;36m0\u001b[0m\u001b[0;34m,\u001b[0m \u001b[0;36m1\u001b[0m\u001b[0;34m]\u001b[0m\u001b[0;34m,\u001b[0m \u001b[0msize\u001b[0m\u001b[0;34m=\u001b[0m\u001b[0;34m(\u001b[0m\u001b[0mnfeatures\u001b[0m\u001b[0;34m,\u001b[0m\u001b[0mnpeople\u001b[0m\u001b[0;34m)\u001b[0m\u001b[0;34m,\u001b[0m \u001b[0mp\u001b[0m\u001b[0;34m=\u001b[0m\u001b[0;34m[\u001b[0m\u001b[0;36m1.\u001b[0m\u001b[0;34m/\u001b[0m\u001b[0mnfeatures\u001b[0m\u001b[0;34m]\u001b[0m\u001b[0;34m*\u001b[0m\u001b[0mnfeatures\u001b[0m\u001b[0;34m)\u001b[0m\u001b[0;34m\u001b[0m\u001b[0;34m\u001b[0m\u001b[0m\n\u001b[0m",
      "\u001b[0;32mmtrand.pyx\u001b[0m in \u001b[0;36mnumpy.random.mtrand.RandomState.choice\u001b[0;34m()\u001b[0m\n",
      "\u001b[0;31mValueError\u001b[0m: 'a' and 'p' must have same size"
     ]
    }
   ],
   "source": [
    "npeople=5\n",
    "nfeatures=7\n",
    "    \n",
    "np.random.choice([0, 1], size=(nfeatures,npeople), p=[1./nfeatures]*nfeatures)"
   ]
  },
  {
   "cell_type": "code",
   "execution_count": 10,
   "id": "ecc3c371",
   "metadata": {},
   "outputs": [
    {
     "data": {
      "text/plain": [
       "[0.14285714285714285,\n",
       " 0.14285714285714285,\n",
       " 0.14285714285714285,\n",
       " 0.14285714285714285,\n",
       " 0.14285714285714285,\n",
       " 0.14285714285714285,\n",
       " 0.14285714285714285]"
      ]
     },
     "execution_count": 10,
     "metadata": {},
     "output_type": "execute_result"
    }
   ],
   "source": [
    "{‘’: 0, ‘’: 1, ‘’: 2, \n",
    " ‘’: 4, ‘’: 5, ‘’: 6, ‘’: 7, \n",
    " ‘’: 9, ‘’: 10, ‘’: 11, \n",
    " ‘’: 12, ‘’: 13, ‘’: 14, ‘’: 15, \n",
    " ‘’: 16, ‘’: 17, ‘’: 18, \n",
    " ‘’: 20, ‘’: 21, ‘’: 22, ‘’: 23, \n",
    " ‘’: 24, ‘’: 25, ‘’: 26, ‘’: 27, ‘’: 28, \n",
    " ‘’: 29, ‘’: 30, ‘’: 31}\n",
    "\n",
    "\n",
    "\n",
    "{'POLITICS':['NEWS', 'MILLITARY', 'POLITICS'],\n",
    "\n",
    "'CORPORATE':['MARKETING', 'PR', 'RECRUITER', 'ASSISTANT', 'EXECUTIVE', 'SALES', 'FINANCE'],\n",
    "\n",
    "'TRADES':['RESTAURANT JOB', 'WAITRESS', 'BEAUTY', 'ACTRESS/MODEL', 'DANCER', 'REALTOR', 'EVENT PLANNER', 'FITNESS', 'NANNY'],\n",
    "\n",
    "'TRADITIONAL':['TEACHER','DENTIST', 'LAWYER', 'MEDICAL', 'SCIENCE/TECHNOLOGY'],\n",
    "\n",
    "'OTHER':['STUDENTT', 'STUDENT', 'WRITER', 'PASTOR', 'ART', 'NONE', 'JOKE', 'FLIGHT ATTENDANT'],\n",
    " }"
   ]
  },
  {
   "cell_type": "code",
   "execution_count": null,
   "id": "943892f4",
   "metadata": {},
   "outputs": [],
   "source": [
    "{‘’: 0, \n",
    " ‘’: 1, \n",
    " ‘’: 2, \n",
    " ‘’: 3, \n",
    " ‘’: 4, \n",
    " ‘’: 5, \n",
    " ‘’: 6, \n",
    " ‘’: 7, \n",
    " ‘’: 8, \n",
    " ‘’: 9}\n",
    "\n",
    "{\n",
    "    'INTERNATIONAL':['Canada','International'],\n",
    "    'NE':['Midwestt','East','Midwest','Mid atlantic'],\n",
    "    'NW':['West','Northwest'],\n",
    "    'SE':['South',],\n",
    "    'SW':['Southwest']\n",
    "}\n"
   ]
  }
 ],
 "metadata": {
  "kernelspec": {
   "display_name": "Python 3 (ipykernel)",
   "language": "python",
   "name": "python3"
  },
  "language_info": {
   "codemirror_mode": {
    "name": "ipython",
    "version": 3
   },
   "file_extension": ".py",
   "mimetype": "text/x-python",
   "name": "python",
   "nbconvert_exporter": "python",
   "pygments_lexer": "ipython3",
   "version": "3.8.11"
  }
 },
 "nbformat": 4,
 "nbformat_minor": 5
}
