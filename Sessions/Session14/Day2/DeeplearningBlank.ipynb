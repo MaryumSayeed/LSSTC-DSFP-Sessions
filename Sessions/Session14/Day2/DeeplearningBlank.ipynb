{
 "cells": [
  {
   "cell_type": "markdown",
   "metadata": {
    "id": "IUjZTQVbmI-4"
   },
   "source": [
    "## Classification with a Multi-layer Perceptron (MLP)\n",
    "\n",
    "In this problem set, we will *not* be implementing neural networks from scratch. Yesterday, you built a *perceptron* in Python. Multi-layer perceptrons (MLPs) are, as discussed in the lecture, several layers of these perceptrons stacked. Here, we will learn how to use one of the most common modules for building neural networks: Pytorch"
   ]
  },
  {
   "cell_type": "code",
   "execution_count": null,
   "metadata": {
    "id": "YZVxCOpuxNFp"
   },
   "outputs": [],
   "source": [
    "# this module contains our dataset\n",
    "!pip install astronn\n",
    "#this is pytorch, which we will use to build our nn\n",
    "import torch\n",
    "#Standards for plotting, math\n",
    "import matplotlib.pyplot as plt\n",
    "import numpy as np\n",
    "#for our objective function\n",
    "from sklearn.metrics import accuracy_score, confusion_matrix, ConfusionMatrixDisplay"
   ]
  },
  {
   "cell_type": "markdown",
   "metadata": {
    "id": "xHiDLvC7SvGR"
   },
   "source": [
    "# Problem 1: Understanding the Data\n",
    "\n",
    "For this problem set, we will use the Galaxy10 dataset made available via the astroNN module. This dataset is made up of 17736 images of galaxies which have been labelled by hand. See this [link](https://astronn.readthedocs.io/en/latest/galaxy10.html) for more information. \n",
    "\n",
    "First we will visualize our data.\n",
    "\n",
    "**Problem 1a** Show one example of each class as an image.\n",
    "\n"
   ]
  },
  {
   "cell_type": "code",
   "execution_count": null,
   "metadata": {
    "id": "vH8FF-l0TxXz"
   },
   "outputs": [],
   "source": [
    "from astroNN.datasets import load_galaxy10\n",
    "from astroNN.datasets.galaxy10 import galaxy10cls_lookup\n",
    "%matplotlib inline\n",
    "\n",
    "#helpful functions:\n",
    "#Load the images and labels as numbers\n",
    "images, labels_original = load_galaxy10()\n",
    "\n",
    "#convert numbers to a string\n",
    "galaxy10cls_lookup(labels_original[0])\n"
   ]
  },
  {
   "cell_type": "markdown",
   "metadata": {
    "id": "dghsBXI3VXcY"
   },
   "source": [
    "**Problem 2b** Make a histogram showing the fraction of each class\n",
    "\n",
    "Keep only the top two classes (i.e., the classes with the most galaxies)"
   ]
  },
  {
   "cell_type": "code",
   "execution_count": null,
   "metadata": {
    "id": "PoClh9kFVV5Y"
   },
   "outputs": [],
   "source": []
  },
  {
   "cell_type": "markdown",
   "metadata": {
    "id": "dcZOURvbWWZt"
   },
   "source": [
    "This next block of code converts the data to a format which is more compatible with our neural network."
   ]
  },
  {
   "cell_type": "code",
   "execution_count": null,
   "metadata": {
    "id": "ZdTlL1sTmRbe"
   },
   "outputs": [],
   "source": [
    "def to_categorical(y, num_classes):\n",
    "    \"\"\" 1-hot encodes a tensor \"\"\"\n",
    "    return np.eye(num_classes, dtype='uint8')[y-1]\n",
    "labels = to_categorical(labels_original, 2)\n",
    "labels = labels.astype(np.float32)\n",
    "images = images.astype(np.float32)\n",
    "images = torch.tensor(images)\n",
    "labels = torch.tensor(labels)\n",
    "\n",
    "# we're going to flatten the images for our MLP\n",
    "images = images.reshape(len(images),-1)"
   ]
  },
  {
   "cell_type": "markdown",
   "metadata": {
    "id": "WgkfExBpZA_X"
   },
   "source": [
    "**Problem 2c** Split the data into a training and test set (66/33 split) using the train_test_split function from sklearn"
   ]
  },
  {
   "cell_type": "code",
   "execution_count": null,
   "metadata": {
    "id": "CVCTXBKdrCVn"
   },
   "outputs": [],
   "source": [
    "from sklearn.model_selection import train_test_split"
   ]
  },
  {
   "cell_type": "markdown",
   "metadata": {
    "id": "tIAYeSPhZbQy"
   },
   "source": [
    "The next cell will outline how one can make a MLP with pytorch. \n",
    "\n",
    "**Problem 3a** Talk to a partner about how this code works, line by line. Add another hidden layer which is the same size as the first hidden layer. Choose an appropriate final nonlinear layer for this classification problem. Choose the appropriate number of outputs."
   ]
  },
  {
   "cell_type": "code",
   "execution_count": null,
   "metadata": {
    "id": "u1VUC-2inrVD"
   },
   "outputs": [],
   "source": [
    "class MLP(torch.nn.Module):\n",
    "      # this defines the model\n",
    "        def __init__(self, input_size, hidden_size):\n",
    "            super(MLP, self).__init__()\n",
    "            self.input_size = input_size\n",
    "            self.hidden_size  = hidden_size\n",
    "            self.hiddenlayer = torch.nn.Linear(self.input_size, self.hidden_size)\n",
    "            self.outputlayer = torch.nn.Linear(self.hidden_size, HOW_MANY_OUTPUTS)\n",
    "            # some nonlinear options\n",
    "            self.sigmoid = torch.nn.Sigmoid()\n",
    "            self.softmax = torch.nn.Softmax()\n",
    "            self.relu = torch.nn.ReLU()\n",
    "        def forward(self, x):\n",
    "            layer1 = self.hiddenlayer(x)\n",
    "            activation = self.sigmoid(layer1)\n",
    "            layer2 = self.outputlayer(activation)\n",
    "            output = self.NONLINEAR(layer2)\n",
    "            return output"
   ]
  },
  {
   "cell_type": "markdown",
   "metadata": {
    "id": "bbDKkusZZ3D8"
   },
   "source": [
    "The next block of code will show how one can train the model for 100 epochs. Note that we use the *binary cross-entropy* as our objective function and *stochastic gradient descent* as our optimization method.\n",
    "\n",
    "**Problem 3b** Edit the code so that the function plots the loss for the training and test loss for each epoch."
   ]
  },
  {
   "cell_type": "code",
   "execution_count": null,
   "metadata": {
    "id": "AT8vw_GnxL8F"
   },
   "outputs": [],
   "source": [
    "# train the model\n",
    "def train_model(training_data,training_labels, test_data,test_labels, model):\n",
    "  # define the optimization\n",
    "  criterion = torch.nn.BCELoss()\n",
    "  optimizer = torch.optim.SGD(model.parameters(), lr=0.1,momentum=0.9)\n",
    "  for epoch in range(100):\n",
    "    # clear the gradient\n",
    "    optimizer.zero_grad()\n",
    "    # compute the model output\n",
    "    myoutput = model(training_data)\n",
    "    # calculate loss\n",
    "    loss = criterion(myoutput, training_labels)\n",
    "    # credit assignment\n",
    "    loss.backward()\n",
    "    # update model weights\n",
    "    optimizer.step()\n",
    "\n",
    "    # ADD PLOT\n"
   ]
  },
  {
   "cell_type": "markdown",
   "metadata": {
    "id": "E11xxIMWbEz2"
   },
   "source": [
    "The next block trains the code, assuming a hidden layer size of 100 neurons.\n",
    "\n",
    "**Problem 3c** Change the learning rate `lr` to minimize the cross entropy score"
   ]
  },
  {
   "cell_type": "code",
   "execution_count": null,
   "metadata": {
    "id": "HET50GP4bEJi"
   },
   "outputs": [],
   "source": [
    "model = MLP(np.shape(images_train[0])[0],100)\n",
    "train_model(images_train, labels_train, images_test, labels_test, model)\n"
   ]
  },
  {
   "cell_type": "markdown",
   "metadata": {
    "id": "suh_J0qWbOFV"
   },
   "source": [
    "Write a function called `evaluate_model` which takes the image data, labels and model as input, and the accuracy as output. you can use the `accuracy_score` function."
   ]
  },
  {
   "cell_type": "code",
   "execution_count": null,
   "metadata": {
    "id": "XM7S2spqSBFq"
   },
   "outputs": [],
   "source": [
    "# evaluate the model\n",
    "def evaluate_model(data,labels, model):\n",
    "  return(acc)\n",
    "# evaluate the model\n",
    "acc = evaluate_model(images_test,labels_test, model)\n",
    "print('Accuracy: %.3f' % acc)"
   ]
  },
  {
   "cell_type": "markdown",
   "metadata": {
    "id": "vQ_KFvIUj-sz"
   },
   "source": [
    "**Problem 3d** Make a confusion matrix for the test set using `confusiion_matrix` and 'ConfusionMatrixDisplay`"
   ]
  },
  {
   "cell_type": "code",
   "execution_count": null,
   "metadata": {
    "id": "OrnvQDHhkE91"
   },
   "outputs": [],
   "source": []
  },
  {
   "cell_type": "markdown",
   "metadata": {
    "id": "A59krpL_iPB-"
   },
   "source": [
    "**Challenge Problem** Add a third class to your classifier and begin accounting for uneven classes. There are several steps to this:\n",
    "\n",
    "1. Edit the neural network to output 3 classes\n",
    "2. Change the criterion to a *custom criterion* function, such that the entropy of each class is weighted by the inverse fraction of each class size (e.g., if the galaxy class breakdowns are 1:2:3, the weights would be 6:3:2). "
   ]
  },
  {
   "cell_type": "code",
   "execution_count": null,
   "metadata": {
    "id": "n4amk25yj9J9"
   },
   "outputs": [],
   "source": []
  }
 ],
 "metadata": {
  "colab": {
   "collapsed_sections": [],
   "name": "DeeplearningBlank.ipynb",
   "provenance": []
  },
  "kernelspec": {
   "display_name": "Python 3 (ipykernel)",
   "language": "python",
   "name": "python3"
  },
  "language_info": {
   "codemirror_mode": {
    "name": "ipython",
    "version": 3
   },
   "file_extension": ".py",
   "mimetype": "text/x-python",
   "name": "python",
   "nbconvert_exporter": "python",
   "pygments_lexer": "ipython3",
   "version": "3.8.11"
  }
 },
 "nbformat": 4,
 "nbformat_minor": 1
}
