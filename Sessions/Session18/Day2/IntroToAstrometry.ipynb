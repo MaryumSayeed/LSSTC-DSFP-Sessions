{
 "cells": [
  {
   "cell_type": "markdown",
   "id": "8ae22b21-c7d7-42cf-a4bd-47784a71b729",
   "metadata": {},
   "source": [
    "# Introduction to Astrometry Notebook"
   ]
  },
  {
   "cell_type": "markdown",
   "id": "4f295204-9595-450a-ae4d-47c863ec7855",
   "metadata": {},
   "source": [
    "We're going to take sources from an HSC observation and match them to Gaia, look at the separations, then fit the wcs and look at  focal plane distortions, finally we'll look at the effect of proper motions, then apply proper motions and parallax and redo the fit. \n",
    "\n",
    "If that is too fast, also fit the source positions.\n",
    "Potential extras: do a better fit using error of measurements, try to find bug in astropy proper motion."
   ]
  },
  {
   "cell_type": "markdown",
   "id": "1aec4e9f-b975-4179-8bd8-104541582b01",
   "metadata": {},
   "source": [
    "#### First, load some helpful packages:"
   ]
  },
  {
   "cell_type": "code",
   "execution_count": 1,
   "id": "f555d57d-46f2-4aec-a0e8-cea2f152fc82",
   "metadata": {
    "execution": {
     "iopub.execute_input": "2023-06-08T18:48:35.224999Z",
     "iopub.status.busy": "2023-06-08T18:48:35.224767Z",
     "iopub.status.idle": "2023-06-08T18:48:35.227935Z",
     "shell.execute_reply": "2023-06-08T18:48:35.227505Z",
     "shell.execute_reply.started": "2023-06-08T18:48:35.224984Z"
    },
    "tags": []
   },
   "outputs": [],
   "source": [
    "# Start by loading some helpful packages:\n",
    "import numpy as np\n",
    "import matplotlib.pyplot as plt\n",
    "from astropy.coordinates import SkyCoord\n",
    "import astropy.wcs\n",
    "import astropy.units as u\n",
    "from astropy.io import fits\n",
    "from astropy import wcs\n",
    "import pandas as pd\n",
    "from glob import glob\n",
    "import re"
   ]
  },
  {
   "cell_type": "markdown",
   "id": "92cd083e",
   "metadata": {},
   "source": [
    "Normally, I wouldn't recommend suppressing warning messages, but in this case astropy will complain a lot about the input files, so it's helpful here:"
   ]
  },
  {
   "cell_type": "code",
   "execution_count": 3,
   "id": "586563ee",
   "metadata": {},
   "outputs": [],
   "source": [
    "import warnings\n",
    "from astropy.utils.exceptions import AstropyWarning\n",
    "warnings.simplefilter('ignore', category=AstropyWarning)"
   ]
  },
  {
   "cell_type": "markdown",
   "id": "6824607d",
   "metadata": {},
   "source": [
    "## Part 1: Fitting a WCS"
   ]
  },
  {
   "cell_type": "markdown",
   "id": "61ab13f3-8d94-4828-ac9e-8f1373347d0c",
   "metadata": {},
   "source": [
    "#### 1. Matching sources to a reference catalog\n",
    "\n",
    "We start by loading the sample data sets. In the \"astrometry_data\" subdirectory, there are files containing the sources measured in one HSC exposure. There is one file for each detector. These source catalogs only contain isolated stars that are appropriate for fitting the astrometric solution (i.e., there are no galaxies or stars that are close to galaxies). There is also one file with a subset of the Gaia catalog overlapping the footprint of the HSC exposure."
   ]
  },
  {
   "cell_type": "markdown",
   "id": "314bf585-934f-4b47-b2c5-a113f7f58c5c",
   "metadata": {},
   "source": [
    "First, load the Gaia catalog:\n",
    "(In this Gaia catalog, missing entries are denoted by NaNs, so you probably want to filter these out.)"
   ]
  },
  {
   "cell_type": "code",
   "execution_count": 89,
   "id": "1939cd8b",
   "metadata": {},
   "outputs": [
    {
     "name": "stdout",
     "output_type": "stream",
     "text": [
      "13005\n"
     ]
    }
   ],
   "source": [
    "gaia_cat = pd.read_parquet('astrometry_data/gaia_refCat.parquet')\n",
    "good_ids = np.isfinite(gaia_cat['coord_ra'])\n",
    "print(len(gaia_cat))\n",
    "gaia_cat = gaia_cat[good_ids]\n",
    "gaia_cat\n",
    "gaia_skyCoord = SkyCoord(gaia_cat.coord_ra, gaia_cat.coord_dec,\n",
    "                         frame=\"icrs\", unit=\"rad\") # complete"
   ]
  },
  {
   "cell_type": "markdown",
   "id": "54f5ece8",
   "metadata": {},
   "source": [
    "The files \"astrometry_data/1180_\\<detector\\>.fits\" contain the sources from each detector for visit 1180. The fits files have a best guess for the WCS in the primary HDU and the table of sources in the second HDU.\n",
    "\n",
    "Let's start by just looking at one source catalog:"
   ]
  },
  {
   "cell_type": "code",
   "execution_count": 199,
   "id": "ae2bd621",
   "metadata": {},
   "outputs": [],
   "source": [
    "sources    = fits.open('astrometry_data/1180_42.fits')\n",
    "source_wcs = sources[0]\n",
    "source_cat = sources[1] # complete\n",
    "\n",
    "# You can check the column names of the data:\n",
    "Nobjects = np.array(source_cat.data).shape[0]\n",
    "pixel_x = source_cat.data['x']\n",
    "pixel_y = source_cat.data['y']\n",
    "\n",
    "pixel_xy = []\n",
    "for x,y in zip(source_cat.data['x'], source_cat.data['y']):\n",
    "    pixel_xy.append((x,y))\n",
    "\n",
    "    "
   ]
  },
  {
   "cell_type": "markdown",
   "id": "d64e45fc-67f9-4cf6-91e6-dd4038c384f1",
   "metadata": {
    "execution": {
     "iopub.execute_input": "2023-06-08T19:56:18.683475Z",
     "iopub.status.busy": "2023-06-08T19:56:18.683252Z",
     "iopub.status.idle": "2023-06-08T19:56:18.693101Z",
     "shell.execute_reply": "2023-06-08T19:56:18.692671Z",
     "shell.execute_reply.started": "2023-06-08T19:56:18.683460Z"
    },
    "tags": []
   },
   "source": [
    "Now convert the source catalog pixel values to RA and Dec using the WCS in the header"
   ]
  },
  {
   "cell_type": "code",
   "execution_count": 200,
   "id": "ae924009-50e5-49c9-9f08-4f0a6e727953",
   "metadata": {
    "tags": []
   },
   "outputs": [],
   "source": [
    "detector_wcs = wcs.WCS(header=source_wcs.header) # complete\n",
    "\n",
    "# Hint: wcs has a pixel_to_world method that is helpful here\n",
    "source_skyCoords = detector_wcs.pixel_to_world(pixel_x, pixel_y) # complete "
   ]
  },
  {
   "cell_type": "markdown",
   "id": "d0ed50e7-342a-4082-9ee9-0b9676ffb1ee",
   "metadata": {},
   "source": [
    "Make a plot showing the RA and Dec positions of the two catalogs to make sure we are starting with something sensible. For example, first make sure that the RA and Dec values of the two catalogs overlap, which they should. (Mixing up degrees and radians happens all the time!) Does it look like there are any likely matches between the catalogs? I recommend using different markers for each catalog in your scatter plot."
   ]
  },
  {
   "cell_type": "code",
   "execution_count": 236,
   "id": "4d836bb2",
   "metadata": {},
   "outputs": [
    {
     "data": {
      "text/plain": [
       "(2.0842375457739024, 2.1768979955136154)"
      ]
     },
     "execution_count": 236,
     "metadata": {},
     "output_type": "execute_result"
    },
    {
     "data": {
      "image/png": "[encoded data removed]",
      "text/plain": [
       "<Figure size 432x288 with 1 Axes>"
      ]
     },
     "metadata": {
      "needs_background": "light"
     },
     "output_type": "display_data"
    }
   ],
   "source": [
    "# Complete\n",
    "plt.scatter(gaia_skyCoord.ra, gaia_skyCoord.dec)\n",
    "plt.scatter(source_skyCoords.ra, source_skyCoords.dec, marker='+')\n",
    "plt.xlabel('RA [deg]')\n",
    "plt.ylabel('Dec [deg]')\n",
    "plt.xlim(min(source_skyCoords.ra.value), max(source_skyCoords.ra.value))\n",
    "plt.ylim(min(source_skyCoords.dec.value), max(source_skyCoords.dec.value))"
   ]
  },
  {
   "cell_type": "markdown",
   "id": "327b2fa3-96f2-4223-9a17-aa1e495433cc",
   "metadata": {},
   "source": [
    "Given the initial estimate of RA and Dec, match the Gaia catalog sources to the new source catalog:"
   ]
  },
  {
   "cell_type": "code",
   "execution_count": 216,
   "id": "983cd419",
   "metadata": {},
   "outputs": [],
   "source": [
    "# Complete: \n",
    "# (Hint: astropy SkyCoord has a \"match_to_catalog_sky\" function that works well for this.)\n",
    "idx_in_base_catalog, sep2d, _ = source_skyCoords.match_to_catalog_sky(gaia_skyCoord)\n",
    "sep2d = sep2d.arcsecond"
   ]
  },
  {
   "cell_type": "markdown",
   "id": "646304cc-26a9-48df-95de-97d292b7a1e7",
   "metadata": {},
   "source": [
    "Not every source in the catalog will have a match in the Gaia catalog. Make a histogram of the match separations and choose a sensible limit for the distance between matches."
   ]
  },
  {
   "cell_type": "code",
   "execution_count": 222,
   "id": "e6cc71b8-0481-401e-a3ba-4cb39bf33d8e",
   "metadata": {
    "tags": []
   },
   "outputs": [
    {
     "data": {
      "text/plain": [
       "Text(0, 0.5, 'Counts')"
      ]
     },
     "execution_count": 222,
     "metadata": {},
     "output_type": "execute_result"
    },
    {
     "data": {
      "image/png": "[encoded data removed]",
      "text/plain": [
       "<Figure size 432x288 with 1 Axes>"
      ]
     },
     "metadata": {
      "needs_background": "light"
     },
     "output_type": "display_data"
    }
   ],
   "source": [
    "# Complete\n",
    "plt.hist(sep2d, bins=100, histtype='step', lw=2)\n",
    "plt.xlabel('Separation [arcsec]')\n",
    "plt.ylabel('Counts')"
   ]
  },
  {
   "cell_type": "markdown",
   "id": "480d0d16",
   "metadata": {},
   "source": [
    "Make a histogram of just the good matches to see what the separations look like."
   ]
  },
  {
   "cell_type": "code",
   "execution_count": 224,
   "id": "ceb41737",
   "metadata": {},
   "outputs": [
    {
     "data": {
      "text/plain": [
       "Text(0, 0.5, 'Counts')"
      ]
     },
     "execution_count": 224,
     "metadata": {},
     "output_type": "execute_result"
    },
    {
     "data": {
      "image/png": "[encoded data removed]",
      "text/plain": [
       "<Figure size 432x288 with 1 Axes>"
      ]
     },
     "metadata": {
      "needs_background": "light"
     },
     "output_type": "display_data"
    }
   ],
   "source": [
    "# Complete\n",
    "good_match = sep2d < 5\n",
    "plt.hist(sep2d[good_match], bins='auto', histtype='step', lw=2)\n",
    "plt.xlabel('Separation [arcsec]')\n",
    "plt.ylabel('Counts')"
   ]
  },
  {
   "cell_type": "markdown",
   "id": "327a666e-942a-4e22-8ed9-2993428c19bf",
   "metadata": {},
   "source": [
    "You may also want to remove any sources that have ambiguous pairings (within the limit you selected above) -- i.e. one gaia star matches multiple science sources or vice-versa"
   ]
  },
  {
   "cell_type": "code",
   "execution_count": 227,
   "id": "e142a76b",
   "metadata": {},
   "outputs": [
    {
     "name": "stdout",
     "output_type": "stream",
     "text": [
      "removed 195 sources\n",
      "left with 21 sources\n"
     ]
    }
   ],
   "source": [
    "idx_in_base_good = idx_in_base_catalog[good_match]\n",
    "sep2d_good       = sep2d[good_match]\n",
    "print('removed %i sources' % (len(idx_in_base_catalog)-len(idx_in_base_good)))\n",
    "print('left with %i sources' % len(idx_in_base_good))"
   ]
  },
  {
   "cell_type": "code",
   "execution_count": 230,
   "id": "4d11d6b4",
   "metadata": {},
   "outputs": [],
   "source": [
    "# come back to this!\n",
    "import collections\n",
    "repeated_gaia_sources = [item for item, count in collections.Counter(idx_in_base_good).items() if count > 1]"
   ]
  },
  {
   "cell_type": "markdown",
   "id": "74ec02de-c7dc-41a6-8812-5a2ae53149d1",
   "metadata": {},
   "source": [
    "#### 2. Fitting a WCS\n",
    "\n",
    "Now that we have found the stars that are in both our science image and our reference catalog, let's try to fit an improved WCS.\n",
    "\n",
    "To do a simple version of this, use `astropy.wcs.utils.fit_wcs_from_points` to fit a WCS function. Use the optional argument `sip_degree` to choose what order of polynomial to use for the function. (Choosing zero should give something pretty close to the WCS we got from the fits file header.) The pixel values should come from our source catalog, and the sky coordinates should come from the Gaia catalog."
   ]
  },
  {
   "cell_type": "code",
   "execution_count": 210,
   "id": "1cddcde4-de00-405e-9946-656858432234",
   "metadata": {},
   "outputs": [
    {
     "ename": "ValueError",
     "evalue": "operands could not be broadcast together with shapes (10278,) (216,) ",
     "output_type": "error",
     "traceback": [
      "\u001b[0;31m---------------------------------------------------------------------------\u001b[0m",
      "\u001b[0;31mValueError\u001b[0m                                Traceback (most recent call last)",
      "\u001b[0;32m<ipython-input-210-1098d3a2aaf2>\u001b[0m in \u001b[0;36m<module>\u001b[0;34m\u001b[0m\n\u001b[1;32m      1\u001b[0m \u001b[0;31m# for coord in pixel_xy:\u001b[0m\u001b[0;34m\u001b[0m\u001b[0;34m\u001b[0m\u001b[0;34m\u001b[0m\u001b[0m\n\u001b[0;32m----> 2\u001b[0;31m new_wcs = astropy.wcs.utils.fit_wcs_from_points((pixel_x, pixel_y), \n\u001b[0m\u001b[1;32m      3\u001b[0m                                                 \u001b[0mgaia_skyCoord\u001b[0m\u001b[0;34m,\u001b[0m\u001b[0;34m\u001b[0m\u001b[0;34m\u001b[0m\u001b[0m\n\u001b[1;32m      4\u001b[0m                                                 sip_degree=1) \n",
      "\u001b[0;32m/opt/miniconda3/lib/python3.9/site-packages/astropy/wcs/utils.py\u001b[0m in \u001b[0;36mfit_wcs_from_points\u001b[0;34m(xy, world_coords, proj_point, projection, sip_degree)\u001b[0m\n\u001b[1;32m   1097\u001b[0m \u001b[0;34m\u001b[0m\u001b[0m\n\u001b[1;32m   1098\u001b[0m     \u001b[0mp0\u001b[0m \u001b[0;34m=\u001b[0m \u001b[0mnp\u001b[0m\u001b[0;34m.\u001b[0m\u001b[0mconcatenate\u001b[0m\u001b[0;34m(\u001b[0m\u001b[0;34m[\u001b[0m\u001b[0mwcs\u001b[0m\u001b[0;34m.\u001b[0m\u001b[0mwcs\u001b[0m\u001b[0;34m.\u001b[0m\u001b[0mcd\u001b[0m\u001b[0;34m.\u001b[0m\u001b[0mflatten\u001b[0m\u001b[0;34m(\u001b[0m\u001b[0;34m)\u001b[0m\u001b[0;34m,\u001b[0m \u001b[0mwcs\u001b[0m\u001b[0;34m.\u001b[0m\u001b[0mwcs\u001b[0m\u001b[0;34m.\u001b[0m\u001b[0mcrpix\u001b[0m\u001b[0;34m.\u001b[0m\u001b[0mflatten\u001b[0m\u001b[0;34m(\u001b[0m\u001b[0;34m)\u001b[0m\u001b[0;34m]\u001b[0m\u001b[0;34m)\u001b[0m\u001b[0;34m\u001b[0m\u001b[0;34m\u001b[0m\u001b[0m\n\u001b[0;32m-> 1099\u001b[0;31m     fit = least_squares(\n\u001b[0m\u001b[1;32m   1100\u001b[0m         \u001b[0m_linear_wcs_fit\u001b[0m\u001b[0;34m,\u001b[0m \u001b[0mp0\u001b[0m\u001b[0;34m,\u001b[0m\u001b[0;34m\u001b[0m\u001b[0;34m\u001b[0m\u001b[0m\n\u001b[1;32m   1101\u001b[0m         \u001b[0margs\u001b[0m\u001b[0;34m=\u001b[0m\u001b[0;34m(\u001b[0m\u001b[0mlon\u001b[0m\u001b[0;34m,\u001b[0m \u001b[0mlat\u001b[0m\u001b[0;34m,\u001b[0m \u001b[0mxp\u001b[0m\u001b[0;34m,\u001b[0m \u001b[0myp\u001b[0m\u001b[0;34m,\u001b[0m \u001b[0mwcs\u001b[0m\u001b[0;34m)\u001b[0m\u001b[0;34m,\u001b[0m\u001b[0;34m\u001b[0m\u001b[0;34m\u001b[0m\u001b[0m\n",
      "\u001b[0;32m/opt/miniconda3/lib/python3.9/site-packages/scipy/optimize/_lsq/least_squares.py\u001b[0m in \u001b[0;36mleast_squares\u001b[0;34m(fun, x0, jac, bounds, method, ftol, xtol, gtol, x_scale, loss, f_scale, diff_step, tr_solver, tr_options, jac_sparsity, max_nfev, verbose, args, kwargs)\u001b[0m\n\u001b[1;32m    828\u001b[0m         \u001b[0mx0\u001b[0m \u001b[0;34m=\u001b[0m \u001b[0mmake_strictly_feasible\u001b[0m\u001b[0;34m(\u001b[0m\u001b[0mx0\u001b[0m\u001b[0;34m,\u001b[0m \u001b[0mlb\u001b[0m\u001b[0;34m,\u001b[0m \u001b[0mub\u001b[0m\u001b[0;34m)\u001b[0m\u001b[0;34m\u001b[0m\u001b[0;34m\u001b[0m\u001b[0m\n\u001b[1;32m    829\u001b[0m \u001b[0;34m\u001b[0m\u001b[0m\n\u001b[0;32m--> 830\u001b[0;31m     \u001b[0mf0\u001b[0m \u001b[0;34m=\u001b[0m \u001b[0mfun_wrapped\u001b[0m\u001b[0;34m(\u001b[0m\u001b[0mx0\u001b[0m\u001b[0;34m)\u001b[0m\u001b[0;34m\u001b[0m\u001b[0;34m\u001b[0m\u001b[0m\n\u001b[0m\u001b[1;32m    831\u001b[0m \u001b[0;34m\u001b[0m\u001b[0m\n\u001b[1;32m    832\u001b[0m     \u001b[0;32mif\u001b[0m \u001b[0mf0\u001b[0m\u001b[0;34m.\u001b[0m\u001b[0mndim\u001b[0m \u001b[0;34m!=\u001b[0m \u001b[0;36m1\u001b[0m\u001b[0;34m:\u001b[0m\u001b[0;34m\u001b[0m\u001b[0;34m\u001b[0m\u001b[0m\n",
      "\u001b[0;32m/opt/miniconda3/lib/python3.9/site-packages/scipy/optimize/_lsq/least_squares.py\u001b[0m in \u001b[0;36mfun_wrapped\u001b[0;34m(x)\u001b[0m\n\u001b[1;32m    823\u001b[0m \u001b[0;34m\u001b[0m\u001b[0m\n\u001b[1;32m    824\u001b[0m     \u001b[0;32mdef\u001b[0m \u001b[0mfun_wrapped\u001b[0m\u001b[0;34m(\u001b[0m\u001b[0mx\u001b[0m\u001b[0;34m)\u001b[0m\u001b[0;34m:\u001b[0m\u001b[0;34m\u001b[0m\u001b[0;34m\u001b[0m\u001b[0m\n\u001b[0;32m--> 825\u001b[0;31m         \u001b[0;32mreturn\u001b[0m \u001b[0mnp\u001b[0m\u001b[0;34m.\u001b[0m\u001b[0matleast_1d\u001b[0m\u001b[0;34m(\u001b[0m\u001b[0mfun\u001b[0m\u001b[0;34m(\u001b[0m\u001b[0mx\u001b[0m\u001b[0;34m,\u001b[0m \u001b[0;34m*\u001b[0m\u001b[0margs\u001b[0m\u001b[0;34m,\u001b[0m \u001b[0;34m**\u001b[0m\u001b[0mkwargs\u001b[0m\u001b[0;34m)\u001b[0m\u001b[0;34m)\u001b[0m\u001b[0;34m\u001b[0m\u001b[0;34m\u001b[0m\u001b[0m\n\u001b[0m\u001b[1;32m    826\u001b[0m \u001b[0;34m\u001b[0m\u001b[0m\n\u001b[1;32m    827\u001b[0m     \u001b[0;32mif\u001b[0m \u001b[0mmethod\u001b[0m \u001b[0;34m==\u001b[0m \u001b[0;34m'trf'\u001b[0m\u001b[0;34m:\u001b[0m\u001b[0;34m\u001b[0m\u001b[0;34m\u001b[0m\u001b[0m\n",
      "\u001b[0;32m/opt/miniconda3/lib/python3.9/site-packages/astropy/wcs/utils.py\u001b[0m in \u001b[0;36m_linear_wcs_fit\u001b[0;34m(params, lon, lat, x, y, w_obj)\u001b[0m\n\u001b[1;32m    895\u001b[0m     \u001b[0mlon2\u001b[0m\u001b[0;34m,\u001b[0m \u001b[0mlat2\u001b[0m \u001b[0;34m=\u001b[0m \u001b[0mw_obj\u001b[0m\u001b[0;34m.\u001b[0m\u001b[0mwcs_pix2world\u001b[0m\u001b[0;34m(\u001b[0m\u001b[0mx\u001b[0m\u001b[0;34m,\u001b[0m \u001b[0my\u001b[0m\u001b[0;34m,\u001b[0m \u001b[0;36m0\u001b[0m\u001b[0;34m)\u001b[0m\u001b[0;34m\u001b[0m\u001b[0;34m\u001b[0m\u001b[0m\n\u001b[1;32m    896\u001b[0m \u001b[0;34m\u001b[0m\u001b[0m\n\u001b[0;32m--> 897\u001b[0;31m     \u001b[0mlat_resids\u001b[0m \u001b[0;34m=\u001b[0m \u001b[0mlat\u001b[0m \u001b[0;34m-\u001b[0m \u001b[0mlat2\u001b[0m\u001b[0;34m\u001b[0m\u001b[0;34m\u001b[0m\u001b[0m\n\u001b[0m\u001b[1;32m    898\u001b[0m     \u001b[0mlon_resids\u001b[0m \u001b[0;34m=\u001b[0m \u001b[0mlon\u001b[0m \u001b[0;34m-\u001b[0m \u001b[0mlon2\u001b[0m\u001b[0;34m\u001b[0m\u001b[0;34m\u001b[0m\u001b[0m\n\u001b[1;32m    899\u001b[0m     \u001b[0;31m# In case the longitude has wrapped around\u001b[0m\u001b[0;34m\u001b[0m\u001b[0;34m\u001b[0m\u001b[0;34m\u001b[0m\u001b[0m\n",
      "\u001b[0;31mValueError\u001b[0m: operands could not be broadcast together with shapes (10278,) (216,) "
     ]
    }
   ],
   "source": [
    "# for coord in pixel_xy:\n",
    "new_wcs = astropy.wcs.utils.fit_wcs_from_points((pixel_x, pixel_y),\n",
    "                                                gaia_skyCoord,\n",
    "                                                sip_degree=1)"
   ]
  },
  {
   "cell_type": "markdown",
   "id": "14f8e01d",
   "metadata": {},
   "source": [
    "Now calculate the RA and Dec for the pixel coordinages in the input image and see if the separations between the science image and Gaia have improved."
   ]
  },
  {
   "cell_type": "code",
   "execution_count": null,
   "id": "d8cb0f67",
   "metadata": {},
   "outputs": [],
   "source": [
    "new_radec = # complete"
   ]
  },
  {
   "cell_type": "markdown",
   "id": "fd4fe4ee-5beb-4e17-a6f7-c5a5ea2c6806",
   "metadata": {},
   "source": [
    "#### 3. Fit the WCS over the whole focal plane and look for camera-level effects"
   ]
  },
  {
   "cell_type": "markdown",
   "id": "d4efceea-6236-4143-bcef-cf3860e4e087",
   "metadata": {},
   "source": [
    "We are going to put the above steps together in a loop over all the detectors to get an improved WCS for each detector. "
   ]
  },
  {
   "cell_type": "code",
   "execution_count": null,
   "id": "ce80ba6a-d2be-46b3-8d01-ab6b6cd38859",
   "metadata": {},
   "outputs": [],
   "source": [
    "source_files = glob('astrometry_data/1180_*.fits')\n",
    "get_detector = re.compile(r'astrometry_data/1180_(\\d+?).fits')\n",
    "orig_wcs_dict = {}\n",
    "new_wcs_dict = {}\n",
    "for source_file in source_files:\n",
    "    sources = # complete\n",
    "    \n",
    "    s = get_detector.search(source_file)\n",
    "    detector = int(s.group(1))\n",
    "\n",
    "    orig_wcs_dict[detector] = # complete\n",
    "\n",
    "    source_cat = # complete\n",
    "\n",
    "    source_coords = # complete\n",
    "\n",
    "    # Choose good matches as above...\n",
    "\n",
    "    new_wcs = # complete\n",
    "    new_wcs_dict[detector] = new_wcs\n"
   ]
  },
  {
   "cell_type": "markdown",
   "id": "b8f65252",
   "metadata": {},
   "source": [
    "Plot the difference in RA and Dec vs the simple wcs position, then look at this difference over the focal plane. Are there coherent distortions between detectors?\n",
    "\n",
    "To do this, I recommend making a grid in x and y pixel values and calculating what RA and Dec those map to using the original and new WCSs for each detector. "
   ]
  },
  {
   "cell_type": "code",
   "execution_count": null,
   "id": "c7492c54",
   "metadata": {},
   "outputs": [],
   "source": [
    "x_range = np.arange(0, 2048, 100)\n",
    "y_range = np.arange(0, 4096, 100)\n",
    "\n",
    "# complete"
   ]
  },
  {
   "cell_type": "markdown",
   "id": "4959cf05-e15e-4cab-b653-3f7e5570f09a",
   "metadata": {},
   "source": [
    "#### 4. How good is the model?\n",
    "\n",
    "Use the pixel scale matrix (the CD matrix) to approximate the WCS Jacobian and propagate the x and y errors to RA and Dec. You can use this equation for the error propagation:\n",
    "\n",
    "$$ \\mathbf{C}_{RA, Dec} = \\mathbf{J} \\mathbf{C}_{x, y} \\mathbf{J}^T\n",
    "$$\n",
    "\n",
    "where $\\mathbf{C}_{x, y}$ is the x,y covariance matrix, \\mathbf{C}_{RA, Dec} is the covariance in RA and Dec, and \\mathbf{J} is the Jacobian of the WCS transformation.\n"
   ]
  },
  {
   "cell_type": "code",
   "execution_count": null,
   "id": "3b84cea5-ccb3-43dc-96b3-fbbb2f0a764a",
   "metadata": {},
   "outputs": [],
   "source": [
    "print(new_wcs.pixel_scale_matrix)"
   ]
  },
  {
   "cell_type": "markdown",
   "id": "b441ceea",
   "metadata": {},
   "source": [
    "Using this covariance, calculated the chi-squared of the model for the WCS that we have calculated."
   ]
  },
  {
   "cell_type": "code",
   "execution_count": null,
   "id": "8d78fcfd",
   "metadata": {},
   "outputs": [],
   "source": []
  }
 ],
 "metadata": {
  "kernelspec": {
   "display_name": "Python 3",
   "language": "python",
   "name": "python3"
  },
  "language_info": {
   "codemirror_mode": {
    "name": "ipython",
    "version": 3
   },
   "file_extension": ".py",
   "mimetype": "text/x-python",
   "name": "python",
   "nbconvert_exporter": "python",
   "pygments_lexer": "ipython3",
   "version": "3.9.5"
  }
 },
 "nbformat": 4,
 "nbformat_minor": 5
}
