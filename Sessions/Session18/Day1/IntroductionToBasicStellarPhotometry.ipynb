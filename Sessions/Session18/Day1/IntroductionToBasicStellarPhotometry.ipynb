{
 "cells": [
  {
   "cell_type": "markdown",
   "metadata": {},
   "source": [
    "# Introduction to Basic Stellar Photometry\n",
    "\n",
    "## Measuring Flux in 1D\n",
    "\n",
    "**Version 0.15**\n",
    "\n",
    "In this notebook we will introduce some basic concepts related to measuring the flux of a point source. As this is an introduction, several challenges associated with image processing will be ignored or simplified (for example, we will simulate stars in 1 dimension). Nevertheless, the concepts below adapt nicely to charge coupled devices (CCDs) with a small field of view ($\\ll 1\\,\\deg^{2}$), and where stellar crowding is minimal. A good reference for such problems is the [Handbook for CCD Astronomy](https://ui.adsabs.harvard.edu/abs/2006hca..book.....H/abstract) by Steve Howell. However, as we will see throughout this session, the basic methods introduced here are insufficient for an ~all sky survey with a large field-of-view detector, as will be conducted by the Vera C. Rubin Observatory. We will learn more about those challenges and solutions in later lectures.\n",
    "\n",
    "The problems below are inspired by Robert Lupton.\n",
    "\n",
    "* * *\n",
    "\n",
    "Bryan Scott as adapted from a notebook by Adam Miller \n",
    "CIERA/Northwestern"
   ]
  },
  {
   "cell_type": "code",
   "execution_count": 1,
   "metadata": {},
   "outputs": [],
   "source": [
    "import numpy as np\n",
    "import matplotlib.pyplot as plt"
   ]
  },
  {
   "cell_type": "code",
   "execution_count": null,
   "metadata": {},
   "outputs": [],
   "source": [
    "# %matplotlib notebook"
   ]
  },
  {
   "cell_type": "markdown",
   "metadata": {},
   "source": [
    "## Problem 1) An (oversimplified) 1-D Model\n",
    "\n",
    "For this introductory problem we are going to simulate a 1 dimensional detector. Simulated stars that are detected by said detector will have Gaussian profiles $\\mathcal{N}(\\mu, \\sigma^2)$, with mean position $\\mu$ and variance $\\sigma^2$.\n",
    "\n",
    "As observed by LSST, all stars are point sources that reflect the point spread function (PSF), which is produced by a combination of the atmosphere, telescope, and detector. A standard measure of the PSF's width is the Full Width Half Maximum (FWHM). For a Gaussian the FWHM = $2\\sqrt{2 \\ln (2)} \\sigma \\approx 2.3548\\,\\sigma$.\n",
    "\n",
    "In addition to the signal from the stars, the 1D detector also detects a smooth background of light from several sources (the atmosphere, the detector, etc). We will refer to this background simply as \"The Sky.\""
   ]
  },
  {
   "cell_type": "markdown",
   "metadata": {},
   "source": [
    "**Problem 1a**\n",
    "\n",
    "Write a function `phi()` to simulate a (noise-free) 1D Gaussian PSF. The function should take `mu` and `fwhm` as arguments, and evaluate the PSF along a user-supplied array `x`."
   ]
  },
  {
   "cell_type": "code",
   "execution_count": 15,
   "metadata": {},
   "outputs": [],
   "source": [
    "def phi(x, mu, fwhm):\n",
    "    \"\"\"Evalute the 1d PSF N(mu, sigma^2) along x\n",
    "    \n",
    "    Parameters\n",
    "    ----------\n",
    "    x : array-like of shape (n_pixels,)\n",
    "        detector pixel number\n",
    "    mu : float\n",
    "        mean position of the 1D star\n",
    "    fwhm : float\n",
    "        Full-width half-maximum of the stellar profile on the detector\n",
    "    \n",
    "    Returns\n",
    "    -------\n",
    "    flux : array-like of shape (n_pixels,)\n",
    "        Flux in each pixel of the input array\n",
    "    \"\"\"\n",
    "    sigma = fwhm/2.3548 # complete\n",
    "    flux  = 1/(sigma*np.sqrt(2*np.pi))*np.exp(-0.5*(x-mu)**2./sigma**2) # complete\n",
    "    return flux # complete\n"
   ]
  },
  {
   "cell_type": "markdown",
   "metadata": {},
   "source": [
    "**Helper Function**\n",
    "\n",
    "CCDs measure pixelated signals. To clearly remind ourselves that that is the case, I have created a helper function that shows the pixelated counts in our 1D detector. The function assumes that the input positions are *the left edge* of the pixel.\n",
    "\n",
    "You can use this function throughout the notebook below."
   ]
  },
  {
   "cell_type": "code",
   "execution_count": 3,
   "metadata": {},
   "outputs": [],
   "source": [
    "from matplotlib.ticker import MultipleLocator\n",
    "def pixel_plot(pix, counts): \n",
    "    '''Make a pixelated 1D plot'''\n",
    "    \n",
    "    fig, ax = plt.subplots()\n",
    "    \n",
    "    ax.step(pix, counts, \n",
    "            where='post')\n",
    "    \n",
    "    ax.set_xlabel('pixel number')\n",
    "    ax.set_ylabel('relative counts')\n",
    "    ax.xaxis.set_minor_locator(MultipleLocator(1))\n",
    "    ax.xaxis.set_major_locator(MultipleLocator(5))\n",
    "    fig.tight_layout()"
   ]
  },
  {
   "cell_type": "markdown",
   "metadata": {},
   "source": [
    "**Problem 1b**\n",
    "\n",
    "Plot the noise-free PSF for a star with a profile defined by $\\mu = 10$ and $\\mathrm{FWHM} = 3$. \n",
    "\n",
    "Estimate the total flux of this star by \"integrating\" over the counts measured by the detector. If you are clever in the definition of your pixels, this integration reduces to a sum.\n",
    "\n",
    "*Hint - think about your input grid of pixels. Can you have a non-integer number of pixels? Also - the flux should be evaluated at the center of the pixel.*"
   ]
  },
  {
   "cell_type": "code",
   "execution_count": 44,
   "metadata": {},
   "outputs": [
    {
     "name": "stdout",
     "output_type": "stream",
     "text": [
      "The flux of the star is: 49.950\n"
     ]
    },
    {
     "data": {
      "image/png": "[encoded data removed]",
      "text/plain": [
       "<Figure size 432x288 with 1 Axes>"
      ]
     },
     "metadata": {
      "needs_background": "light"
     },
     "output_type": "display_data"
    }
   ],
   "source": [
    "import random\n",
    "\n",
    "x    = np.linspace(0, 20, 1000)\n",
    "flux = phi(x+0.5, mu=10, fwhm=3)\n",
    "pixel_plot(x, flux) # complete\n",
    "\n",
    "print(\"The flux of the star is: {:.3f}\".format(np.sum(flux))) # complete"
   ]
  },
  {
   "cell_type": "markdown",
   "metadata": {},
   "source": [
    "**Problem 1c**\n",
    "\n",
    "Now add sky noise to the detector (for now we will assume the sky noise is constant in every pixel). We will define the the sky as `S`, and the total stellar flux as `F`.\n",
    "\n",
    "Plot the simulated counts for `S` = 100 and `F` = 500. (Use the same stellar profile as **1b**)"
   ]
  },
  {
   "cell_type": "code",
   "execution_count": 45,
   "metadata": {},
   "outputs": [
    {
     "data": {
      "image/png": "[encoded data removed]",
      "text/plain": [
       "<Figure size 432x288 with 1 Axes>"
      ]
     },
     "metadata": {
      "needs_background": "light"
     },
     "output_type": "display_data"
    }
   ],
   "source": [
    "S = 100 # complete\n",
    "F = 500 # complete\n",
    "\n",
    "pixel_plot(x, S*np.ones_like(x)+F*phi(x+0.5, 10, 3)) # complete"
   ]
  },
  {
   "cell_type": "markdown",
   "metadata": {},
   "source": [
    "## Problem 2) Add Noise\n",
    "\n",
    "For optical detectors (such as those used by the Rubin Observatory), the noise $n$ in a pixel is almost entirely shot noise due to the finite number of photons that have been detected. Therefore, within each pixel if the \"true\" signal in the detector would produce $n$ photons, then the noise/uncertainty in each pixel follows a [Poisson distribution](https://en.wikipedia.org/wiki/Poisson_distribution), which has the property that the mean $\\lambda$ is equal to the variance $\\lambda$. If $n \\gg 1$ then $P(\\lambda) \\approx \\mathcal{N}(\\lambda, \\lambda)$. We will make this simplifying assumption for the remainder of this problem."
   ]
  },
  {
   "cell_type": "markdown",
   "metadata": {},
   "source": [
    "**Problem 2a**\n",
    "\n",
    "Plot the noisy counts in each pixel for the simulated signal (star + sky) in **1c**. Visually compare these results to your previous plot.\n",
    "\n",
    "*Hint* - you may find the function [`np.random.normal()`](https://docs.scipy.org/doc/numpy-1.13.0/reference/generated/numpy.random.normal.html) or [`np.random.poisson()`](https://numpy.org/devdocs/reference/random/generated/numpy.random.poisson.html) helpful."
   ]
  },
  {
   "cell_type": "code",
   "execution_count": 47,
   "metadata": {},
   "outputs": [
    {
     "data": {
      "image/png": "[encoded data removed]",
      "text/plain": [
       "<Figure size 432x288 with 1 Axes>"
      ]
     },
     "metadata": {
      "needs_background": "light"
     },
     "output_type": "display_data"
    }
   ],
   "source": [
    "np.random.seed(2023)\n",
    "signal            = S + F*phi(x+0.5, 10, 3) # complete\n",
    "signal_plus_noise = np.random.normal(signal, np.sqrt(signal))  # complete\n",
    "\n",
    "pixel_plot(x, signal_plus_noise) # complete"
   ]
  },
  {
   "cell_type": "markdown",
   "metadata": {},
   "source": [
    "**Problem 2b**\n",
    "\n",
    "Estimate the flux of the star using the same method you used in **1b**.\n",
    "\n",
    "Does your estimate match your expectation? (recall that $F = 500$) \n",
    "\n",
    "If not, why not?"
   ]
  },
  {
   "cell_type": "code",
   "execution_count": 49,
   "metadata": {},
   "outputs": [
    {
     "name": "stdout",
     "output_type": "stream",
     "text": [
      "The total flux = 125014.3119\n"
     ]
    }
   ],
   "source": [
    "print('The total flux = {:.4f}'.format(np.sum(signal_plus_noise))) # complete"
   ]
  },
  {
   "cell_type": "markdown",
   "metadata": {},
   "source": [
    "*write your answer here*\n",
    "\n",
    "**b/c of noise**\n"
   ]
  },
  {
   "cell_type": "markdown",
   "metadata": {},
   "source": [
    "**Problem 2c**\n",
    "\n",
    "The flux has been measured incorrectly because we are counting photons from the \"sky.\" \n",
    "\n",
    "Subtract the sky background S from the counts in the detector and once again estimate the flux using the same method as **1b**.\n",
    "\n",
    "Does your estimate match your expectation? (recall that $F = 500$) \n",
    "\n",
    "*Note - estimating the value of the \"sky\" background in real life is extremely difficult and an entire lecture will be devoted to this topic*"
   ]
  },
  {
   "cell_type": "code",
   "execution_count": 50,
   "metadata": {},
   "outputs": [
    {
     "name": "stdout",
     "output_type": "stream",
     "text": [
      "The total flux = 25014.3119\n"
     ]
    }
   ],
   "source": [
    "print('The total flux = {:.4f}'.format(np.sum(signal_plus_noise-S))) # complete"
   ]
  },
  {
   "cell_type": "markdown",
   "metadata": {},
   "source": [
    "*write your answer here*\n"
   ]
  },
  {
   "cell_type": "markdown",
   "metadata": {},
   "source": [
    "We will now examine alternative methods of estimating the flux."
   ]
  },
  {
   "cell_type": "markdown",
   "metadata": {},
   "source": [
    "## Problem 3) Aperture Flux Measurements\n",
    "\n",
    "In some sense, **2c** provides the most simplistic method for estimating the flux of star (add up all the counts after subtracting th background). This solution, however, cannot generalize to any sort of real life problem because there are always multiple stars (and galaxies) detected in every individual image. \n",
    "\n",
    "However, we can approximate the above procedure by \"isolating\" the individual stars in any image (say by taking a 10x10 cutout around each star), and then estimating the flux in a similar fashion. As we are about to show, the size of the box (or more appropriately a circle for 2D optical images) is critical when estimating the flux. "
   ]
  },
  {
   "cell_type": "markdown",
   "metadata": {},
   "source": [
    "**Problem 3a**\n",
    "\n",
    "Write a function `simulate()` to simulate the noisy count measurements of a star with centroid `mu`, FWHM `fwhm`, sky background `S`, and flux `F`.\n",
    "\n",
    "*Hint* - it may be helpful to plot the output of your function."
   ]
  },
  {
   "cell_type": "code",
   "execution_count": null,
   "metadata": {},
   "outputs": [],
   "source": [
    "def simulate(x, mu, fwhm, S, F):\n",
    "    '''simulate a noisy stellar signal\n",
    "    \n",
    "    Parameters\n",
    "    ----------\n",
    "    x : array-like\n",
    "        detector pixel number\n",
    "    mu : float\n",
    "        mean position of the 1D star\n",
    "    fwhm : float\n",
    "        Full-width half-maximum of the stellar profile on the detector\n",
    "    S : float\n",
    "        Constant sky background in each pixel\n",
    "    F : float\n",
    "        Total stellar flux\n",
    "    \n",
    "    Returns\n",
    "    -------\n",
    "    noisy_counts : array-like (same shape as x)\n",
    "        the (noisy) number of counts in each pixel\n",
    "    '''\n",
    "    source = F*phi(x+np.mean(np.diff(x))/2, mu, fwhm)\n",
    "    sky_plus_source = S*np.ones_like(x)+source\n",
    "    noise_flux =     # complete\n",
    "\n",
    "    noisy_counts = # complete\n",
    "    \n",
    "    return noisy_counts"
   ]
  },
  {
   "cell_type": "markdown",
   "metadata": {},
   "source": [
    "We will now perform aperture photometry. In optical astronomy, most apertures are a top-hat function, and the flux is estimated by multiplying the aperture by the (background-subtracted) signal and summing the resulting output. In 2D apertures are typically a circle, for the remainder of this 1D problem we will use a top-hat aperture. If the aperture contains partial pixels, then the counts in pixels with parial coverage are multiplied by the fractional coverage of the pixel."
   ]
  },
  {
   "cell_type": "markdown",
   "metadata": {},
   "source": [
    "**Problem 3b** \n",
    "\n",
    "Using an aperture with a radius of 5 pixels centered on the source (i.e. the aperture is 10 pixels long), measure the flux from a star centered at `mu` = 20, with `fwhm` = 5, `S` = 100, and `F` = 1000. Assume you can perfectly measure the background, and subtract this prior to measuring the flux.\n",
    "\n",
    "**Extra long** *Hint* - if you create your aperture using a single `np.where()` command (or similar) you are not going to get the correct answer. To quickly see why this is the case, imagine you'd been asked to use an aperture with a radius of 3.2 pixels. Thus, properly calculating the aperture requires a bit of thought. A for loop is a fairly intuitive way to handle this problem (though it can also be done with a series of where commands, and both possibilities will be presented in the solutions). \n",
    "\n",
    "*Hint 2* - what value should the mask return for the 'fractional' pixel? \n",
    "\n",
    "**DO NOT SPEND TOO MUCH TIME ON THIS PROBLEM** If you get stuck, use a single `np.where()` command. When you plot the results in the **3c** you'll see how things are off, but this won't affect the general results in the remainder of the notebook. "
   ]
  },
  {
   "cell_type": "code",
   "execution_count": null,
   "metadata": {},
   "outputs": [],
   "source": [
    "x         = np.linspace(0,40,41)\n",
    "mu        = 20\n",
    "S         = 100\n",
    "fwhm      = 5\n",
    "F         = 1000\n",
    "sim_star  = # complete\n",
    "ap_radius = # complete\n",
    "\n",
    "# complete\n",
    "# complete\n",
    "# complete\n",
    "# complete\n",
    "# complete\n",
    "\n",
    "# complete\n",
    "# complete\n",
    "# complete\n",
    "\n",
    "print(\"The star has flux = {:.3f}\".format( # complete"
   ]
  },
  {
   "cell_type": "markdown",
   "metadata": {
    "slideshow": {
     "slide_type": "fragment"
    }
   },
   "source": [
    "**Problem 3c**\n",
    "\n",
    "Plot the simulated counts from **3b** and overplot your aperture. You may want to multiple the aperture by a factor of 100 to see it better.\n",
    "\n",
    "*Hint* – after you have run `pixel_plot()` you will need to call matplotlib functions directly (e.g., `plt.plot`) to overplot on the pixel data. Also, if you created an `aperture_mask` in **3b** it may help to plot that as well."
   ]
  },
  {
   "cell_type": "code",
   "execution_count": null,
   "metadata": {},
   "outputs": [],
   "source": [
    "pixel_plot( # complete\n",
    "# add aperture\n",
    "plt.plot( # complete"
   ]
  },
  {
   "cell_type": "markdown",
   "metadata": {},
   "source": [
    "**Problem 3c** \n",
    "\n",
    "Write a Monte Carlo simulator to estimate the mean and standard deviation of the flux from the simulated star.\n",
    "\n",
    "Observe: the Monte Carlo part of this question refers to the probabilistic result of your star simulation. \n",
    "\n",
    "*Food for thought* - what do you notice if you run your simulator many times?"
   ]
  },
  {
   "cell_type": "code",
   "execution_count": null,
   "metadata": {},
   "outputs": [],
   "source": [
    "sim_fluxes = np.empty(1000)\n",
    "for sim_num, dummy in enumerate(sim_fluxes):\n",
    "    sim_star = simulate(x, mu, 5, S, 1000)\n",
    "    \n",
    "    ap_radius = # complete\n",
    "\n",
    "\n",
    "    # complete\n",
    "    # complete\n",
    "    # complete\n",
    "    # complete\n",
    "    # complete\n",
    "\n",
    "\n",
    "    # complete\n",
    "    # complete\n",
    "    # complete    \n",
    "\n",
    "    sim_fluxes[sim_num] = # complete\n",
    "\n",
    "print(\"The mean flux = {:.3f} with variance = {:.3f}\".format( # complete "
   ]
  },
  {
   "cell_type": "markdown",
   "metadata": {},
   "source": [
    "## Problem 4) Avoid Arbitrary Numbers -- the Curve of Growth\n",
    "\n",
    "In **Problem 3** we decided to use an aperture radius of 5. Why? \n",
    "\n",
    "(In practice, an aperture radius equal to the FWHM is a pretty good choice, as we will show below. However, this is not optimal in all situations)\n",
    "\n",
    "We will now try to optimize the choice of aperture for the star in question."
   ]
  },
  {
   "cell_type": "markdown",
   "metadata": {},
   "source": [
    "**Problem 4a**\n",
    "\n",
    "Using your solution to **Problem 3**, write a function `aperture_flux()` that estimates the mean flux and it's variance in a given aperture of size `ap_radius` for a simulated star. \n",
    "\n",
    "*Hint* - this function is going to have many inputs, `ap_radius`, the position of the star, the flux of the star, the FWHM of the star, a pixel grid, the value of the sky background, and the number of simulations per input radius."
   ]
  },
  {
   "cell_type": "code",
   "execution_count": null,
   "metadata": {},
   "outputs": [],
   "source": [
    "def aperture_flux(ap_radius, \n",
    "                  position, \n",
    "                  flux, \n",
    "                  fwhm,\n",
    "                  pixel_grid, \n",
    "                  sky_background,\n",
    "                  simulations_per_rad)\n",
    "\n",
    "    # complete\n",
    "    # complete\n",
    "    # complete\n",
    "                  \n",
    "    # complete\n",
    "    # complete\n",
    "    # complete\n",
    "\n",
    "    # complete\n",
    "    # complete\n",
    "    # complete\n",
    "\n",
    "    return     # complete    "
   ]
  },
  {
   "cell_type": "markdown",
   "metadata": {},
   "source": [
    "**Problem 4b**\n",
    "\n",
    "Confirm your function works by calculating the mean and variance of the flux in a 5 pixel radius aperture. "
   ]
  },
  {
   "cell_type": "code",
   "execution_count": null,
   "metadata": {},
   "outputs": [],
   "source": [
    "mean, var = aperture_flux(5)\n",
    "\n",
    "print('The mean flux in a r = 5 pix aperture is {:.4f} +/- {:.4f}'.format( # complete"
   ]
  },
  {
   "cell_type": "markdown",
   "metadata": {},
   "source": [
    "**Problem 4c**\n",
    "\n",
    "Build successively larger apertures with sizes increasing from a radius of 1 to 10 pixels. Measure the mean and variance for each aperture size. Plot the results.\n",
    "\n",
    "Which aperture size has the smallest variance? Is this aperture best? \n",
    "\n",
    "Do these results make sense?"
   ]
  },
  {
   "cell_type": "code",
   "execution_count": null,
   "metadata": {},
   "outputs": [],
   "source": [
    "ap_array = # complete\n",
    "# complete\n",
    "# complete\n",
    "\n",
    "for ap_num, ap_rad in enumerate(ap_array):\n",
    "    # complete\n",
    "\n",
    "fig, ax = plt.subplots()\n",
    "ax.errorbar( # complete\n",
    "# complete\n",
    "# complete\n",
    "# complete\n",
    "\n",
    "print('aperture radius = {} has the smallest variance'.format( # complete"
   ]
  },
  {
   "cell_type": "markdown",
   "metadata": {},
   "source": [
    "*write your answer here*\n",
    "\n"
   ]
  },
  {
   "cell_type": "markdown",
   "metadata": {},
   "source": [
    "Small apertures fail to measure all the light from the source. Large apertures do measure all the light, but at the cost of higher variance. \n",
    "\n",
    "In practice, these challenges can be alleviated if the point spread function is known. (This is a challenging problem and the subject of an entire lecture this week, as the PSF is essentially never known a priori and must be estimated from the images themselves.)\n",
    "\n",
    "In this case, we know the PSF is a 1D Gaussian. We can therefore calculate \"aperture corrections\" to determine the flux at any radius on the above plot (known as the curve of growth -- in some cases the aperture corrections can be determined directly from the curve of growth but that can be challenging on real images, as things like stellar blends remove all the simplicity of the single star problem that we have here)."
   ]
  },
  {
   "cell_type": "markdown",
   "metadata": {},
   "source": [
    "To determine the aperture correction at any radius $r$, we can simply integrate a Gaussian (our know PSF for this simulated problem) over the size of the aperture and then divide the aperture flux (and standard deviation) by this result to estimate the true flux in each aperture.\n",
    "\n",
    "This can easily be done for our 1D Gaussian with scipy."
   ]
  },
  {
   "cell_type": "code",
   "execution_count": null,
   "metadata": {},
   "outputs": [],
   "source": [
    "from scipy.stats import norm\n",
    "\n",
    "def curve_of_growth(r):\n",
    "    '''Return aperture correction for aperture of size r\n",
    "    \n",
    "    Parameters\n",
    "    ----------\n",
    "    r : float\n",
    "        radius of the aperture, in units of the \n",
    "        Gaussian standard deviation\n",
    "    \n",
    "    Returns\n",
    "    -------\n",
    "    apcor : float\n",
    "        the aperture correction at radius r\n",
    "    \n",
    "    '''\n",
    "\n",
    "    return norm.cdf(r) - norm.cdf(-r)"
   ]
  },
  {
   "cell_type": "markdown",
   "metadata": {},
   "source": [
    "**Problem 4d**\n",
    "\n",
    "Calculate the analytic curve of growth for each of your apertures from **4c**. Re-plot the (corrected) flux in each aperture. Do you notice anything different? \n",
    "\n",
    "*Hint* – recall the relation between FWHM and the standard deviation for a Gaussian."
   ]
  },
  {
   "cell_type": "code",
   "execution_count": null,
   "metadata": {},
   "outputs": [],
   "source": [
    "cog = # complete\n",
    "\n",
    "fig, ax = plt.subplots()\n",
    "ax.errorbar(# complete\n",
    "# complete\n",
    "# complete\n",
    "# complete"
   ]
  },
  {
   "cell_type": "markdown",
   "metadata": {},
   "source": [
    "**Problem 4e**\n",
    "\n",
    "Plot the uncertainty on the flux estimate (i.e., the square root of the variance) as a function of aperture radius.\n",
    "\n",
    "Now which aperture size do you think is best?"
   ]
  },
  {
   "cell_type": "code",
   "execution_count": null,
   "metadata": {},
   "outputs": [],
   "source": [
    "fig, ax = plt.subplots()\n",
    "ax.plot( # complete\n",
    "ax.set_xlabel('aperture radius (pix)')\n",
    "ax.set_ylabel('uncertainty in F')\n",
    "fig.tight_layout()"
   ]
  },
  {
   "cell_type": "markdown",
   "metadata": {},
   "source": [
    "*write your answer here*\n",
    "\n"
   ]
  },
  {
   "cell_type": "markdown",
   "metadata": {},
   "source": [
    "Here we have discovered a universal truth about aperture photometry: very small and very large apertures produce lower signal-to-noise estimates than something in between. \n",
    "\n",
    "However, the optimal value of that something in between is different for every star (as you will show below). "
   ]
  },
  {
   "cell_type": "markdown",
   "metadata": {},
   "source": [
    "**Problem 4f**\n",
    "\n",
    "Leaving all other variables the same, estimate the optimal aperture size (i.e. maximize the signal-to-noise ratio) for a star with a flux of 10000.\n",
    "\n",
    "What is the optimal aperture size?\n",
    "\n",
    "*Hint* –– you only need to repeat **4c** and **4e** for this answer."
   ]
  },
  {
   "cell_type": "code",
   "execution_count": null,
   "metadata": {},
   "outputs": [],
   "source": [
    "# complete\n",
    "# complete\n",
    "# complete\n",
    "\n",
    "\n",
    "# complete\n",
    "# complete\n",
    "# complete\n",
    "\n",
    "\n",
    "print('The optimal aperture is {} pix'.format( # complete"
   ]
  },
  {
   "cell_type": "markdown",
   "metadata": {},
   "source": [
    "**Problem 4g**\n",
    "\n",
    "Leaving all other variables the same, estimate the optimal aperture size (i.e. maximize the signal-to-noise ratio) for a star with a flux of 10.\n",
    "\n",
    "What is the optimal aperture size? \n",
    "\n",
    "Can you even measure the flux of this star?"
   ]
  },
  {
   "cell_type": "code",
   "execution_count": null,
   "metadata": {},
   "outputs": [],
   "source": [
    "# complete\n",
    "# complete\n",
    "# complete\n",
    "\n",
    "\n",
    "# complete\n",
    "# complete\n",
    "# complete\n",
    "\n",
    "\n",
    "\n",
    "print('The optimal aperture is {} pix'.format( # complete"
   ]
  },
  {
   "cell_type": "markdown",
   "metadata": {},
   "source": [
    "#### Upshot\n",
    "\n",
    "Dropping simple apertures on an image provides a fast and simple method to estimate the flux of a star. \n",
    "\n",
    "This approach comes at a cost, however, as the aperture method employed here provides high variance estimates of the flux. \n",
    "\n",
    "Fortunately, it is possible to do much better via PSF photometry (and in fact, the [Cramer-Rao bound](https://en.wikipedia.org/wiki/Cram%C3%A9r%E2%80%93Rao_bound) mathematically proves that PSF photometry is the lowest variance estimator of the flux of a star). This means that *aperture photometry is never better than PSF photometry* despite some claims to contrary in the literature. There are cases where the PSF is extremely difficult to estimate, in which case aperture photometry may be the only decent way to estimate the flux, but even then PSF photometry would be better."
   ]
  },
  {
   "cell_type": "markdown",
   "metadata": {},
   "source": [
    "(Technically speaking, aperture photometry *is* PSF photometry. The catch is that the PSF model (a 1D or circular top hat) is a terrible match to the actual aparition of the stars on the image. When the model of the PSF is good, and in the case of our simulated data set we know the PSF perfectly, then PSF flux estimates will be a minimum variance estimator.)\n"
   ]
  },
  {
   "cell_type": "markdown",
   "metadata": {},
   "source": [
    "## Problem 5/Challenge Problem) PSF Flux measurement\n",
    "\n",
    "We are going to cover PSF modeling and PSF photometry in far greater detail later this week, but here we are going to quickly meausure the flux using a model of the PSF, which we will compare to the aperture results."
   ]
  },
  {
   "cell_type": "markdown",
   "metadata": {},
   "source": [
    "**Problem 5a**\n",
    "\n",
    "Create the psf model, `psf`, which is equivalent to a noise-free star with `fwhm` = 5."
   ]
  },
  {
   "cell_type": "code",
   "execution_count": null,
   "metadata": {},
   "outputs": [],
   "source": [
    "psf = # complete"
   ]
  },
  {
   "cell_type": "markdown",
   "metadata": {},
   "source": [
    "**Problem 5b** \n",
    "\n",
    "Using the same parameters as problem 3, simulate a star and measure it's PSF flux.\n",
    "\n",
    "*Hint* - you may find the [`minimize`](https://docs.scipy.org/doc/scipy/reference/generated/scipy.optimize.minimize.html) function from `scipy.optimize` helpful."
   ]
  },
  {
   "cell_type": "code",
   "execution_count": null,
   "metadata": {},
   "outputs": [],
   "source": [
    "# complete\n",
    "# complete\n",
    "# complete\n",
    "\n",
    "\n",
    "sim_star = simulate(x, mu, fwhm, S, F)\n",
    "psf_flux = # complete\n",
    "\n",
    "print(\"The PSF flux is {:.3f}\".format( # complete"
   ]
  },
  {
   "cell_type": "markdown",
   "metadata": {},
   "source": [
    "**Problem 5c**\n",
    "\n",
    "Following **4a** write a function to simulate many realizations of the star and estimate  the flux and variance using the PSF model.\n",
    "\n",
    "How does the PSF estimate compare to the aperture estimate?"
   ]
  },
  {
   "cell_type": "code",
   "execution_count": null,
   "metadata": {},
   "outputs": [],
   "source": [
    "# complete\n",
    "# complete\n",
    "# complete\n",
    "# complete\n",
    "# complete\n",
    "\n",
    "\n",
    "\n",
    "print(\"The mean flux = {:.3f} with variance = {:.3f}\".format( # complete"
   ]
  },
  {
   "cell_type": "markdown",
   "metadata": {},
   "source": [
    "*write your answer here*\n"
   ]
  }
 ],
 "metadata": {
  "kernelspec": {
   "display_name": "Python 3",
   "language": "python",
   "name": "python3"
  },
  "language_info": {
   "codemirror_mode": {
    "name": "ipython",
    "version": 3
   },
   "file_extension": ".py",
   "mimetype": "text/x-python",
   "name": "python",
   "nbconvert_exporter": "python",
   "pygments_lexer": "ipython3",
   "version": "3.9.5"
  }
 },
 "nbformat": 4,
 "nbformat_minor": 2
}
